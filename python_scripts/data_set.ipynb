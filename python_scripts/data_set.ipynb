{
 "cells": [
  {
   "cell_type": "markdown",
   "metadata": {},
   "source": [
    "# Data Set Generation\n",
    "\n",
    "Since it is now possible to create random initial mass fractions, the next step is to use them as initial conditions for the needed source term differential equations. By passing this initial conditions to an ODE solver, a sample data set can be created by using them as _input_ vector, an parsing their evolution for a given time to an _output_ array. "
   ]
  },
  {
   "cell_type": "markdown",
   "metadata": {},
   "source": [
    "## __Setting the work environment__\n",
    "\n",
    "The libraries that will be used for this are:\n",
    "\n",
    "* Cantera\n",
    "* Numpy\n",
    "* Pandas\n",
    "* SciPy\n",
    "\n",
    "It is also necessary to collect the functions previously defined for producing the initial mass fractions:"
   ]
  },
  {
   "cell_type": "code",
   "execution_count": 10,
   "metadata": {},
   "outputs": [],
   "source": [
    "import numpy as np\n",
    "import cantera as ct\n",
    "import pandas as pd\n",
    "import scipy\n",
    "from scipy import integrate\n",
    "from scipy.optimize import nnls \n",
    "#Set printing format for numpy arrays for ease of reading\n",
    "np.set_printoptions(formatter={'float': lambda x: \"{0:0.4f}\".format(x)})"
   ]
  },
  {
   "cell_type": "code",
   "execution_count": 11,
   "metadata": {},
   "outputs": [],
   "source": [
    "#Noble gases filter:\n",
    "def noble_filter(elements):\n",
    "    filter_elements=[]\n",
    "    # List of elements to be removed\n",
    "    noble=['Ar','Kr','Ne','He','Rn','Xe']\n",
    "    for x in elements:\n",
    "        if (noble.count(x)==0):\n",
    "            filter_elements.append(x)\n",
    "            \n",
    "    return filter_elements\n",
    "\n",
    "#Matrix for the linear system of Equations:\n",
    "def bilger_matrix(gas):\n",
    "    \n",
    "    #Elements present in the mechanism\n",
    "    elements=noble_filter(gas.element_names)\n",
    "    #Species present in the mechanism\n",
    "    species=gas.species_names\n",
    "    \n",
    "    #Matrix to store coeffiecients\n",
    "    A=np.ones((len(elements)+1,len(species)))\n",
    "   \n",
    "    row=1;\n",
    "    for x in elements:\n",
    "        col=0\n",
    "        for y in species:\n",
    "            A[row,col]=gas.n_atoms(y,x)*gas.atomic_weight(x)/gas[y].molecular_weights[0]\n",
    "            col +=1\n",
    "        row +=1\n",
    "    return np.copy(A)\n",
    "\n",
    "#Vector for the linear system of Equations:\n",
    "\n",
    "def bilger_vector(f_mix, fuel_dict, oxy_dict, elements):\n",
    "    \n",
    "    b=np.ones(len(elements)+1)\n",
    "    row=1\n",
    "    for x in elements:\n",
    "        b[row]=f_mix*fuel_dict[x]+(1-f_mix)*oxy_dict[x]\n",
    "        row+=1\n",
    "    return np.copy(b)\n",
    "\n",
    "# Define a function to Generate random temperatures and mass fractions\n",
    "\n",
    "def TY_Generator(seed,samples,gas,fuel_dict,oxy_dict,f_max=0.6,f_min=0.1,T_max=3000,T_min=300):\n",
    "    S=[]\n",
    "    F=[]\n",
    "    A=bilger_matrix(gas)\n",
    "    np.random.seed(seed)\n",
    "    T=np.random.random(samples)*(T_max-T_min)+T_min\n",
    "    np.random.seed(seed)\n",
    "    for i in range(samples):\n",
    "        f=np.random.random(1)*(f_max-f_min)+f_min\n",
    "        b=bilger_vector(f[0],fuel_dict, oxy_dict, noble_filter(gas.element_names))\n",
    "        z=np.linalg.lstsq(A, b,rcond=None)[0:]\n",
    "        if (z[0][0]>=0):\n",
    "            S.append(z[0])\n",
    "        else:\n",
    "            z,rnorm=nnls(A,b)\n",
    "            S.append(z)\n",
    "    YInit=np.array(S)\n",
    "    return (np.copy(T),np.copy(YInit))"
   ]
  },
  {
   "cell_type": "markdown",
   "metadata": {},
   "source": [
    "A class called ReactorSolver will also be created in order to provide solutions for the source term ODE's and collect their data points."
   ]
  },
  {
   "cell_type": "code",
   "execution_count": 12,
   "metadata": {},
   "outputs": [],
   "source": [
    "#Reactor solver\n",
    "class ReactorOde(object):\n",
    "    def __init__(self, gas):\n",
    "        # Parameters of the ODE system and auxiliary data are stored in the\n",
    "        # ReactorOde object.\n",
    "        self.gas = gas\n",
    "        self.P = gas.P\n",
    "\n",
    "    def __call__(self, t, y):\n",
    "        \"\"\"the ODE function, y' = f(t,y) \"\"\"\n",
    "\n",
    "        # State vector is [T, Y_1, Y_2, ... Y_K]\n",
    "        self.gas.set_unnormalized_mass_fractions(y[1:])\n",
    "        self.gas.TP = y[0], self.P\n",
    "        rho = self.gas.density\n",
    "\n",
    "        wdot = self.gas.net_production_rates\n",
    "        dTdt = - (np.dot(self.gas.partial_molar_enthalpies, wdot) /\n",
    "                  (rho * self.gas.cp))\n",
    "        dYdt = wdot * self.gas.molecular_weights / rho\n",
    "\n",
    "        return np.hstack((dTdt, dYdt))"
   ]
  },
  {
   "cell_type": "markdown",
   "metadata": {},
   "source": [
    "To begin, the initial parameters for the data set generations are specified"
   ]
  },
  {
   "cell_type": "code",
   "execution_count": null,
   "metadata": {},
   "outputs": [],
   "source": []
  },
  {
   "cell_type": "code",
   "execution_count": 13,
   "metadata": {},
   "outputs": [],
   "source": [
    "#Define a function to create the appropiate file tree:\n",
    "def file_base(base_directory='../'):\n",
    "    import shutil\n",
    "    import os\n",
    "    try:\n",
    "        #shutil.rmtree((base_directory+'data'), ignore_errors=False, onerror=None)\n",
    "        os.mkdir((base_directory+'data'))\n",
    "    except IOError:\n",
    "        pass\n",
    "        #os.mkdir((base_directory+'data'))\n",
    "    \n",
    "    \n",
    "#Define a function to create a dataset sample folder structure\n",
    "def data_folder(samples,step, base_directory='../'):\n",
    "    import shutil\n",
    "    import os\n",
    "    \n",
    "    try:\n",
    "        shutil.rmtree((base_directory+'data/'+str(samples)+'_'+str(step)), ignore_errors=False, onerror=None)\n",
    "        os.mkdir((base_directory+'data/'+str(samples)+'_'+str(step)))\n",
    "    except IOError:\n",
    "        os.mkdir((base_directory+'data/'+str(samples)+'_'+str(step)))\n",
    "        \n",
    "    try:\n",
    "        shutil.rmtree((base_directory+'data/'+str(samples)+'_'+str(step)+'/input'), ignore_errors=False, onerror=None)\n",
    "        os.mkdir((base_directory+'data/'+str(samples)+'_'+str(step)+'/input'))\n",
    "    except IOError:\n",
    "        os.mkdir((base_directory+'data/'+str(samples)+'_'+str(step)+'/input'))\n",
    "    \n",
    "    try:\n",
    "        shutil.rmtree((base_directory+'data/'+str(samples)+'_'+str(step)+'/output'), ignore_errors=False, onerror=None)\n",
    "        os.mkdir((base_directory+'data/'+str(samples)+'_'+str(step)+'/output'))\n",
    "    except IOError:\n",
    "        os.mkdir((base_directory+'data/'+str(samples)+'_'+str(step)+'/output'))\n",
    "    \n",
    "    "
   ]
  },
  {
   "cell_type": "code",
   "execution_count": 8,
   "metadata": {},
   "outputs": [],
   "source": [
    "def data_generator(gas,samples,sets,step,t_end,tol,T,Y):\n",
    "    from IPython.display import clear_output\n",
    "    Input=[]\n",
    "    Output=[]\n",
    "    counter=1\n",
    "    s=1\n",
    "    counter2=1\n",
    "    for r in range(samples*sets):\n",
    "        clear_output(wait=True)\n",
    "        counter+=1\n",
    "\n",
    "        print('Creating samples: ',(r+1)-(samples)*(s-1),'/',samples,' Set:',s-1,'/',sets)\n",
    "        if (counter==samples):\n",
    "            s+=1\n",
    "            counter=1\n",
    "\n",
    "\n",
    "\n",
    "        ### test remove from here to \n",
    "        #Assigns initial conditions\n",
    "        #gas.TPY = T[r], P, YInit[r]\n",
    "        ode = ReactorOde(gas)\n",
    "        #here \n",
    "\n",
    "\n",
    "        solver = scipy.integrate.ode(ode)\n",
    "        solver.set_integrator('vode', method='bdf', with_jacobian=True)\n",
    "        y0 = np.hstack((T[r], YInit[r]))#\n",
    "\n",
    "\n",
    "        solver.set_initial_value(y0, 0.0)\n",
    "        z=np.copy(solver.y)\n",
    "        # Integrate the equations, keeping T(t) and Y(k,t)\n",
    "        #this time should be varied, it corresponds to the residence time (tau_star) in EDC\n",
    "\n",
    "        states = ct.SolutionArray(gas, 1, extra={'t': [0.0]})\n",
    "        dt = step\n",
    "\n",
    "        #solving the equations       \n",
    "        while solver.successful() and solver.t < t_end:\n",
    "            #save('./samples/input/'+str(i)+'.npy',np.hstack((gas.T,gas.Y,dt)))\n",
    "            z=np.copy(np.hstack((solver.y,dt,solver.t)))\n",
    "            solver.integrate(solver.t + dt)\n",
    "            z2=np.copy(np.hstack((solver.y,dt,solver.t)))\n",
    "            if ((z2>=0).all()):\n",
    "                Input.append(z)\n",
    "                Output.append(z2)\n",
    "            else:\n",
    "                break        \n",
    "\n",
    "            if (np.linalg.norm(z-z2)<tol):\n",
    "                #print(solver.t)\n",
    "                break\n",
    "\n",
    "\n",
    "\n",
    "    idx = np.arange(len(Input))\n",
    "    np.random.shuffle(idx)\n",
    "    Input=np.asarray(Input)\n",
    "    Output=np.asarray(Output)\n",
    "    Input=Input[idx]\n",
    "    Output=Output[idx]  \n",
    "\n",
    "    Input=pd.DataFrame(np.asarray(Input),columns=(['Temp']+gas.species_names+['dt','t']))\n",
    "    Output=pd.DataFrame(np.asarray(Output),columns=(['Temp']+gas.species_names+['dt','t']))\n",
    "    \n",
    "    return (Input.copy(deep=True),Output.copy(deep=True))\n",
    "\n",
    "\n"
   ]
  },
  {
   "cell_type": "code",
   "execution_count": 182,
   "metadata": {},
   "outputs": [
    {
     "name": "stdout",
     "output_type": "stream",
     "text": [
      "Creating samples:  0 / 50  Set: 3 / 3\n",
      "CPU times: user 15.3 s, sys: 267 ms, total: 15.6 s\n",
      "Wall time: 15.2 s\n"
     ]
    }
   ],
   "source": [
    "\n"
   ]
  },
  {
   "cell_type": "code",
   "execution_count": 14,
   "metadata": {},
   "outputs": [],
   "source": [
    "def data_splitter(Input,Output,samples,sets,step,base_directory='../'):\n",
    "    l=len(Input)//sets\n",
    "    path_in=base_directory+'data/'+str(samples)+'_'+str(step)+'/input/'\n",
    "    path_out=base_directory+'data/'+str(samples)+'_'+str(step)+'/output/'\n",
    "    \n",
    "    for i in range(sets):\n",
    "        if (i<(sets-1)):\n",
    "            Input[i*l:(i+1)*l].to_csv(path_in+'input_'+str(i+1)+'.csv',index=False)\n",
    "            Output[i*l:(i+1)*l].to_csv(path_out+'output_'+str(i+1)+'.csv',index=False)\n",
    "        else:\n",
    "            Input[i*l:].to_csv(path_in+'input_'+str(i+1)+'.csv',index=False)\n",
    "            Output[i*l:].to_csv(path_out+'output_'+str(i+1)+'.csv',index=False)\n"
   ]
  },
  {
   "cell_type": "code",
   "execution_count": 185,
   "metadata": {},
   "outputs": [],
   "source": []
  },
  {
   "cell_type": "code",
   "execution_count": 16,
   "metadata": {},
   "outputs": [
    {
     "name": "stdout",
     "output_type": "stream",
     "text": [
      "Creating samples:  0 / 1000  Set: 5 / 5\n",
      "CPU times: user 2min 35s, sys: 9.41 s, total: 2min 45s\n",
      "Wall time: 2min 35s\n"
     ]
    }
   ],
   "source": [
    "%%time \n",
    "\n",
    "# Testing\n",
    "\n",
    "#Dictionaries for oxydizer and fuel mass fractions:\n",
    "fuel={'H':0.03922422,'O':0.19663877,'C':0.11684286,'N':0.64729}\n",
    "oxy={'H':1.03625e-5,'O':0.23298543,'C':3.194117e-5,'N':0.766970811}\n",
    "#Parameters:\n",
    "samples=200\n",
    "gas=ct.Solution('../Mechanisms/WD_Laubscher.cti')\n",
    "seed=0\n",
    "f_max=0.6\n",
    "f_min=0.1\n",
    "T_max=3000\n",
    "T_min=300\n",
    "\n",
    "samples=1000\n",
    "sets=5\n",
    "step=1e-7\n",
    "t_end=1e-4\n",
    "tol=1e-7\n",
    "\n",
    "file_base()\n",
    "data_folder(samples,step)\n",
    "T,YInit=TY_Generator(seed,samples*sets,gas,fuel,oxy,f_max=f_max,f_min=f_min,T_max=T_max,T_min=T_min)\n",
    "Input,Output=data_generator(gas,samples,sets,step,t_end,tol,T,YInit)\n",
    "data_splitter(Input,Output,samples,sets,step)"
   ]
  },
  {
   "cell_type": "markdown",
   "metadata": {},
   "source": [
    "It is possible to check if indeed the folder structure and appropiate files have been created"
   ]
  },
  {
   "cell_type": "code",
   "execution_count": 50,
   "metadata": {},
   "outputs": [
    {
     "name": "stdout",
     "output_type": "stream",
     "text": [
      "../data/1000_1e-07/input/input_3.csv\n",
      "../data/1000_1e-07/input/input_5.csv\n",
      "../data/1000_1e-07/input/input_1.csv\n",
      "../data/1000_1e-07/input/input_2.csv\n",
      "../data/1000_1e-07/input/input_4.csv\n",
      "../data/1000_1e-07/output/output_4.csv\n",
      "../data/1000_1e-07/output/output_3.csv\n",
      "../data/1000_1e-07/output/output_5.csv\n",
      "../data/1000_1e-07/output/output_1.csv\n",
      "../data/1000_1e-07/output/output_2.csv\n",
      "../data/1000_1e-07/input\n",
      "../data/1000_1e-07/output\n"
     ]
    }
   ],
   "source": [
    "import os\n",
    "for root, dirs, files in os.walk(\"../data/\"+str(samples)+'_'+str(step), topdown=False):\n",
    "   for name in files:\n",
    "      print(os.path.join(root, name))\n",
    "   for name in dirs:\n",
    "      print(os.path.join(root, name))"
   ]
  },
  {
   "cell_type": "code",
   "execution_count": 48,
   "metadata": {},
   "outputs": [
    {
     "data": {
      "application/vnd.plotly.v1+json": {
       "config": {
        "plotlyServerURL": "https://plot.ly"
       },
       "data": [
        {
         "colorscale": [
          [
           0,
           "#0d0887"
          ],
          [
           0.1111111111111111,
           "#46039f"
          ],
          [
           0.2222222222222222,
           "#7201a8"
          ],
          [
           0.3333333333333333,
           "#9c179e"
          ],
          [
           0.4444444444444444,
           "#bd3786"
          ],
          [
           0.5555555555555556,
           "#d8576b"
          ],
          [
           0.6666666666666666,
           "#ed7953"
          ],
          [
           0.7777777777777778,
           "#fb9f3a"
          ],
          [
           0.8888888888888888,
           "#fdca26"
          ],
          [
           1,
           "#f0f921"
          ]
         ],
         "reversescale": false,
         "showscale": true,
         "type": "heatmap",
         "x": [
          "Temp",
          "CH4",
          "O2",
          "H2O",
          "N2",
          "CO",
          "CO2",
          "H2"
         ],
         "y": [
          "Temp",
          "CH4",
          "O2",
          "H2O",
          "N2",
          "CO",
          "CO2",
          "H2"
         ],
         "z": [
          [
           1,
           0.4735777818508352,
           0.8885386650444982,
           0.8241402226996728,
           0.9694853002323418,
           0.700504843240187,
           0.8753699061825115,
           0.7068875719930358
          ],
          [
           0.4735777818508352,
           1,
           0.8146582016963532,
           0.8053037040903243,
           0.29256524149731095,
           0.5421145103144105,
           0.8219104308010302,
           0.5634931429401676
          ],
          [
           0.8885386650444982,
           0.8146582016963532,
           1,
           0.9722595883519488,
           0.7716980371296679,
           0.7256596719288912,
           0.9817923053272675,
           0.6901313325629342
          ],
          [
           0.8241402226996728,
           0.8053037040903243,
           0.9722595883519488,
           1,
           0.6802067453784713,
           0.6992170839269687,
           0.9165243293588139,
           0.5053614500377648
          ],
          [
           0.9694853002323418,
           0.29256524149731095,
           0.7716980371296679,
           0.6802067453784713,
           1,
           0.6782368239838937,
           0.7686336859590716,
           0.7175214746178394
          ],
          [
           0.700504843240187,
           0.5421145103144105,
           0.7256596719288912,
           0.6992170839269687,
           0.6782368239838937,
           1,
           0.6564750749843005,
           0.6035041504103406
          ],
          [
           0.8753699061825115,
           0.8219104308010302,
           0.9817923053272675,
           0.9165243293588139,
           0.7686336859590716,
           0.6564750749843005,
           1,
           0.7858492364679703
          ],
          [
           0.7068875719930358,
           0.5634931429401676,
           0.6901313325629342,
           0.5053614500377648,
           0.7175214746178394,
           0.6035041504103406,
           0.7858492364679703,
           1
          ]
         ]
        }
       ],
       "layout": {
        "annotations": [
         {
          "font": {
           "color": "#000000"
          },
          "showarrow": false,
          "text": "1.0",
          "x": "Temp",
          "xref": "x",
          "y": "Temp",
          "yref": "y"
         },
         {
          "font": {
           "color": "#FFFFFF"
          },
          "showarrow": false,
          "text": "0.47",
          "x": "CH4",
          "xref": "x",
          "y": "Temp",
          "yref": "y"
         },
         {
          "font": {
           "color": "#000000"
          },
          "showarrow": false,
          "text": "0.89",
          "x": "O2",
          "xref": "x",
          "y": "Temp",
          "yref": "y"
         },
         {
          "font": {
           "color": "#000000"
          },
          "showarrow": false,
          "text": "0.82",
          "x": "H2O",
          "xref": "x",
          "y": "Temp",
          "yref": "y"
         },
         {
          "font": {
           "color": "#000000"
          },
          "showarrow": false,
          "text": "0.97",
          "x": "N2",
          "xref": "x",
          "y": "Temp",
          "yref": "y"
         },
         {
          "font": {
           "color": "#000000"
          },
          "showarrow": false,
          "text": "0.7",
          "x": "CO",
          "xref": "x",
          "y": "Temp",
          "yref": "y"
         },
         {
          "font": {
           "color": "#000000"
          },
          "showarrow": false,
          "text": "0.88",
          "x": "CO2",
          "xref": "x",
          "y": "Temp",
          "yref": "y"
         },
         {
          "font": {
           "color": "#000000"
          },
          "showarrow": false,
          "text": "0.71",
          "x": "H2",
          "xref": "x",
          "y": "Temp",
          "yref": "y"
         },
         {
          "font": {
           "color": "#FFFFFF"
          },
          "showarrow": false,
          "text": "0.47",
          "x": "Temp",
          "xref": "x",
          "y": "CH4",
          "yref": "y"
         },
         {
          "font": {
           "color": "#000000"
          },
          "showarrow": false,
          "text": "1.0",
          "x": "CH4",
          "xref": "x",
          "y": "CH4",
          "yref": "y"
         },
         {
          "font": {
           "color": "#000000"
          },
          "showarrow": false,
          "text": "0.81",
          "x": "O2",
          "xref": "x",
          "y": "CH4",
          "yref": "y"
         },
         {
          "font": {
           "color": "#000000"
          },
          "showarrow": false,
          "text": "0.81",
          "x": "H2O",
          "xref": "x",
          "y": "CH4",
          "yref": "y"
         },
         {
          "font": {
           "color": "#FFFFFF"
          },
          "showarrow": false,
          "text": "0.29",
          "x": "N2",
          "xref": "x",
          "y": "CH4",
          "yref": "y"
         },
         {
          "font": {
           "color": "#FFFFFF"
          },
          "showarrow": false,
          "text": "0.54",
          "x": "CO",
          "xref": "x",
          "y": "CH4",
          "yref": "y"
         },
         {
          "font": {
           "color": "#000000"
          },
          "showarrow": false,
          "text": "0.82",
          "x": "CO2",
          "xref": "x",
          "y": "CH4",
          "yref": "y"
         },
         {
          "font": {
           "color": "#FFFFFF"
          },
          "showarrow": false,
          "text": "0.56",
          "x": "H2",
          "xref": "x",
          "y": "CH4",
          "yref": "y"
         },
         {
          "font": {
           "color": "#000000"
          },
          "showarrow": false,
          "text": "0.89",
          "x": "Temp",
          "xref": "x",
          "y": "O2",
          "yref": "y"
         },
         {
          "font": {
           "color": "#000000"
          },
          "showarrow": false,
          "text": "0.81",
          "x": "CH4",
          "xref": "x",
          "y": "O2",
          "yref": "y"
         },
         {
          "font": {
           "color": "#000000"
          },
          "showarrow": false,
          "text": "1.0",
          "x": "O2",
          "xref": "x",
          "y": "O2",
          "yref": "y"
         },
         {
          "font": {
           "color": "#000000"
          },
          "showarrow": false,
          "text": "0.97",
          "x": "H2O",
          "xref": "x",
          "y": "O2",
          "yref": "y"
         },
         {
          "font": {
           "color": "#000000"
          },
          "showarrow": false,
          "text": "0.77",
          "x": "N2",
          "xref": "x",
          "y": "O2",
          "yref": "y"
         },
         {
          "font": {
           "color": "#000000"
          },
          "showarrow": false,
          "text": "0.73",
          "x": "CO",
          "xref": "x",
          "y": "O2",
          "yref": "y"
         },
         {
          "font": {
           "color": "#000000"
          },
          "showarrow": false,
          "text": "0.98",
          "x": "CO2",
          "xref": "x",
          "y": "O2",
          "yref": "y"
         },
         {
          "font": {
           "color": "#000000"
          },
          "showarrow": false,
          "text": "0.69",
          "x": "H2",
          "xref": "x",
          "y": "O2",
          "yref": "y"
         },
         {
          "font": {
           "color": "#000000"
          },
          "showarrow": false,
          "text": "0.82",
          "x": "Temp",
          "xref": "x",
          "y": "H2O",
          "yref": "y"
         },
         {
          "font": {
           "color": "#000000"
          },
          "showarrow": false,
          "text": "0.81",
          "x": "CH4",
          "xref": "x",
          "y": "H2O",
          "yref": "y"
         },
         {
          "font": {
           "color": "#000000"
          },
          "showarrow": false,
          "text": "0.97",
          "x": "O2",
          "xref": "x",
          "y": "H2O",
          "yref": "y"
         },
         {
          "font": {
           "color": "#000000"
          },
          "showarrow": false,
          "text": "1.0",
          "x": "H2O",
          "xref": "x",
          "y": "H2O",
          "yref": "y"
         },
         {
          "font": {
           "color": "#000000"
          },
          "showarrow": false,
          "text": "0.68",
          "x": "N2",
          "xref": "x",
          "y": "H2O",
          "yref": "y"
         },
         {
          "font": {
           "color": "#000000"
          },
          "showarrow": false,
          "text": "0.7",
          "x": "CO",
          "xref": "x",
          "y": "H2O",
          "yref": "y"
         },
         {
          "font": {
           "color": "#000000"
          },
          "showarrow": false,
          "text": "0.92",
          "x": "CO2",
          "xref": "x",
          "y": "H2O",
          "yref": "y"
         },
         {
          "font": {
           "color": "#FFFFFF"
          },
          "showarrow": false,
          "text": "0.51",
          "x": "H2",
          "xref": "x",
          "y": "H2O",
          "yref": "y"
         },
         {
          "font": {
           "color": "#000000"
          },
          "showarrow": false,
          "text": "0.97",
          "x": "Temp",
          "xref": "x",
          "y": "N2",
          "yref": "y"
         },
         {
          "font": {
           "color": "#FFFFFF"
          },
          "showarrow": false,
          "text": "0.29",
          "x": "CH4",
          "xref": "x",
          "y": "N2",
          "yref": "y"
         },
         {
          "font": {
           "color": "#000000"
          },
          "showarrow": false,
          "text": "0.77",
          "x": "O2",
          "xref": "x",
          "y": "N2",
          "yref": "y"
         },
         {
          "font": {
           "color": "#000000"
          },
          "showarrow": false,
          "text": "0.68",
          "x": "H2O",
          "xref": "x",
          "y": "N2",
          "yref": "y"
         },
         {
          "font": {
           "color": "#000000"
          },
          "showarrow": false,
          "text": "1.0",
          "x": "N2",
          "xref": "x",
          "y": "N2",
          "yref": "y"
         },
         {
          "font": {
           "color": "#000000"
          },
          "showarrow": false,
          "text": "0.68",
          "x": "CO",
          "xref": "x",
          "y": "N2",
          "yref": "y"
         },
         {
          "font": {
           "color": "#000000"
          },
          "showarrow": false,
          "text": "0.77",
          "x": "CO2",
          "xref": "x",
          "y": "N2",
          "yref": "y"
         },
         {
          "font": {
           "color": "#000000"
          },
          "showarrow": false,
          "text": "0.72",
          "x": "H2",
          "xref": "x",
          "y": "N2",
          "yref": "y"
         },
         {
          "font": {
           "color": "#000000"
          },
          "showarrow": false,
          "text": "0.7",
          "x": "Temp",
          "xref": "x",
          "y": "CO",
          "yref": "y"
         },
         {
          "font": {
           "color": "#FFFFFF"
          },
          "showarrow": false,
          "text": "0.54",
          "x": "CH4",
          "xref": "x",
          "y": "CO",
          "yref": "y"
         },
         {
          "font": {
           "color": "#000000"
          },
          "showarrow": false,
          "text": "0.73",
          "x": "O2",
          "xref": "x",
          "y": "CO",
          "yref": "y"
         },
         {
          "font": {
           "color": "#000000"
          },
          "showarrow": false,
          "text": "0.7",
          "x": "H2O",
          "xref": "x",
          "y": "CO",
          "yref": "y"
         },
         {
          "font": {
           "color": "#000000"
          },
          "showarrow": false,
          "text": "0.68",
          "x": "N2",
          "xref": "x",
          "y": "CO",
          "yref": "y"
         },
         {
          "font": {
           "color": "#000000"
          },
          "showarrow": false,
          "text": "1.0",
          "x": "CO",
          "xref": "x",
          "y": "CO",
          "yref": "y"
         },
         {
          "font": {
           "color": "#000000"
          },
          "showarrow": false,
          "text": "0.66",
          "x": "CO2",
          "xref": "x",
          "y": "CO",
          "yref": "y"
         },
         {
          "font": {
           "color": "#FFFFFF"
          },
          "showarrow": false,
          "text": "0.6",
          "x": "H2",
          "xref": "x",
          "y": "CO",
          "yref": "y"
         },
         {
          "font": {
           "color": "#000000"
          },
          "showarrow": false,
          "text": "0.88",
          "x": "Temp",
          "xref": "x",
          "y": "CO2",
          "yref": "y"
         },
         {
          "font": {
           "color": "#000000"
          },
          "showarrow": false,
          "text": "0.82",
          "x": "CH4",
          "xref": "x",
          "y": "CO2",
          "yref": "y"
         },
         {
          "font": {
           "color": "#000000"
          },
          "showarrow": false,
          "text": "0.98",
          "x": "O2",
          "xref": "x",
          "y": "CO2",
          "yref": "y"
         },
         {
          "font": {
           "color": "#000000"
          },
          "showarrow": false,
          "text": "0.92",
          "x": "H2O",
          "xref": "x",
          "y": "CO2",
          "yref": "y"
         },
         {
          "font": {
           "color": "#000000"
          },
          "showarrow": false,
          "text": "0.77",
          "x": "N2",
          "xref": "x",
          "y": "CO2",
          "yref": "y"
         },
         {
          "font": {
           "color": "#000000"
          },
          "showarrow": false,
          "text": "0.66",
          "x": "CO",
          "xref": "x",
          "y": "CO2",
          "yref": "y"
         },
         {
          "font": {
           "color": "#000000"
          },
          "showarrow": false,
          "text": "1.0",
          "x": "CO2",
          "xref": "x",
          "y": "CO2",
          "yref": "y"
         },
         {
          "font": {
           "color": "#000000"
          },
          "showarrow": false,
          "text": "0.79",
          "x": "H2",
          "xref": "x",
          "y": "CO2",
          "yref": "y"
         },
         {
          "font": {
           "color": "#000000"
          },
          "showarrow": false,
          "text": "0.71",
          "x": "Temp",
          "xref": "x",
          "y": "H2",
          "yref": "y"
         },
         {
          "font": {
           "color": "#FFFFFF"
          },
          "showarrow": false,
          "text": "0.56",
          "x": "CH4",
          "xref": "x",
          "y": "H2",
          "yref": "y"
         },
         {
          "font": {
           "color": "#000000"
          },
          "showarrow": false,
          "text": "0.69",
          "x": "O2",
          "xref": "x",
          "y": "H2",
          "yref": "y"
         },
         {
          "font": {
           "color": "#FFFFFF"
          },
          "showarrow": false,
          "text": "0.51",
          "x": "H2O",
          "xref": "x",
          "y": "H2",
          "yref": "y"
         },
         {
          "font": {
           "color": "#000000"
          },
          "showarrow": false,
          "text": "0.72",
          "x": "N2",
          "xref": "x",
          "y": "H2",
          "yref": "y"
         },
         {
          "font": {
           "color": "#FFFFFF"
          },
          "showarrow": false,
          "text": "0.6",
          "x": "CO",
          "xref": "x",
          "y": "H2",
          "yref": "y"
         },
         {
          "font": {
           "color": "#000000"
          },
          "showarrow": false,
          "text": "0.79",
          "x": "CO2",
          "xref": "x",
          "y": "H2",
          "yref": "y"
         },
         {
          "font": {
           "color": "#000000"
          },
          "showarrow": false,
          "text": "1.0",
          "x": "H2",
          "xref": "x",
          "y": "H2",
          "yref": "y"
         }
        ],
        "autosize": true,
        "template": {
         "data": {
          "bar": [
           {
            "error_x": {
             "color": "#2a3f5f"
            },
            "error_y": {
             "color": "#2a3f5f"
            },
            "marker": {
             "line": {
              "color": "#E5ECF6",
              "width": 0.5
             }
            },
            "type": "bar"
           }
          ],
          "barpolar": [
           {
            "marker": {
             "line": {
              "color": "#E5ECF6",
              "width": 0.5
             }
            },
            "type": "barpolar"
           }
          ],
          "carpet": [
           {
            "aaxis": {
             "endlinecolor": "#2a3f5f",
             "gridcolor": "white",
             "linecolor": "white",
             "minorgridcolor": "white",
             "startlinecolor": "#2a3f5f"
            },
            "baxis": {
             "endlinecolor": "#2a3f5f",
             "gridcolor": "white",
             "linecolor": "white",
             "minorgridcolor": "white",
             "startlinecolor": "#2a3f5f"
            },
            "type": "carpet"
           }
          ],
          "choropleth": [
           {
            "colorbar": {
             "outlinewidth": 0,
             "ticks": ""
            },
            "type": "choropleth"
           }
          ],
          "contour": [
           {
            "colorbar": {
             "outlinewidth": 0,
             "ticks": ""
            },
            "colorscale": [
             [
              0,
              "#0d0887"
             ],
             [
              0.1111111111111111,
              "#46039f"
             ],
             [
              0.2222222222222222,
              "#7201a8"
             ],
             [
              0.3333333333333333,
              "#9c179e"
             ],
             [
              0.4444444444444444,
              "#bd3786"
             ],
             [
              0.5555555555555556,
              "#d8576b"
             ],
             [
              0.6666666666666666,
              "#ed7953"
             ],
             [
              0.7777777777777778,
              "#fb9f3a"
             ],
             [
              0.8888888888888888,
              "#fdca26"
             ],
             [
              1,
              "#f0f921"
             ]
            ],
            "type": "contour"
           }
          ],
          "contourcarpet": [
           {
            "colorbar": {
             "outlinewidth": 0,
             "ticks": ""
            },
            "type": "contourcarpet"
           }
          ],
          "heatmap": [
           {
            "colorbar": {
             "outlinewidth": 0,
             "ticks": ""
            },
            "colorscale": [
             [
              0,
              "#0d0887"
             ],
             [
              0.1111111111111111,
              "#46039f"
             ],
             [
              0.2222222222222222,
              "#7201a8"
             ],
             [
              0.3333333333333333,
              "#9c179e"
             ],
             [
              0.4444444444444444,
              "#bd3786"
             ],
             [
              0.5555555555555556,
              "#d8576b"
             ],
             [
              0.6666666666666666,
              "#ed7953"
             ],
             [
              0.7777777777777778,
              "#fb9f3a"
             ],
             [
              0.8888888888888888,
              "#fdca26"
             ],
             [
              1,
              "#f0f921"
             ]
            ],
            "type": "heatmap"
           }
          ],
          "heatmapgl": [
           {
            "colorbar": {
             "outlinewidth": 0,
             "ticks": ""
            },
            "colorscale": [
             [
              0,
              "#0d0887"
             ],
             [
              0.1111111111111111,
              "#46039f"
             ],
             [
              0.2222222222222222,
              "#7201a8"
             ],
             [
              0.3333333333333333,
              "#9c179e"
             ],
             [
              0.4444444444444444,
              "#bd3786"
             ],
             [
              0.5555555555555556,
              "#d8576b"
             ],
             [
              0.6666666666666666,
              "#ed7953"
             ],
             [
              0.7777777777777778,
              "#fb9f3a"
             ],
             [
              0.8888888888888888,
              "#fdca26"
             ],
             [
              1,
              "#f0f921"
             ]
            ],
            "type": "heatmapgl"
           }
          ],
          "histogram": [
           {
            "marker": {
             "colorbar": {
              "outlinewidth": 0,
              "ticks": ""
             }
            },
            "type": "histogram"
           }
          ],
          "histogram2d": [
           {
            "colorbar": {
             "outlinewidth": 0,
             "ticks": ""
            },
            "colorscale": [
             [
              0,
              "#0d0887"
             ],
             [
              0.1111111111111111,
              "#46039f"
             ],
             [
              0.2222222222222222,
              "#7201a8"
             ],
             [
              0.3333333333333333,
              "#9c179e"
             ],
             [
              0.4444444444444444,
              "#bd3786"
             ],
             [
              0.5555555555555556,
              "#d8576b"
             ],
             [
              0.6666666666666666,
              "#ed7953"
             ],
             [
              0.7777777777777778,
              "#fb9f3a"
             ],
             [
              0.8888888888888888,
              "#fdca26"
             ],
             [
              1,
              "#f0f921"
             ]
            ],
            "type": "histogram2d"
           }
          ],
          "histogram2dcontour": [
           {
            "colorbar": {
             "outlinewidth": 0,
             "ticks": ""
            },
            "colorscale": [
             [
              0,
              "#0d0887"
             ],
             [
              0.1111111111111111,
              "#46039f"
             ],
             [
              0.2222222222222222,
              "#7201a8"
             ],
             [
              0.3333333333333333,
              "#9c179e"
             ],
             [
              0.4444444444444444,
              "#bd3786"
             ],
             [
              0.5555555555555556,
              "#d8576b"
             ],
             [
              0.6666666666666666,
              "#ed7953"
             ],
             [
              0.7777777777777778,
              "#fb9f3a"
             ],
             [
              0.8888888888888888,
              "#fdca26"
             ],
             [
              1,
              "#f0f921"
             ]
            ],
            "type": "histogram2dcontour"
           }
          ],
          "mesh3d": [
           {
            "colorbar": {
             "outlinewidth": 0,
             "ticks": ""
            },
            "type": "mesh3d"
           }
          ],
          "parcoords": [
           {
            "line": {
             "colorbar": {
              "outlinewidth": 0,
              "ticks": ""
             }
            },
            "type": "parcoords"
           }
          ],
          "pie": [
           {
            "automargin": true,
            "type": "pie"
           }
          ],
          "scatter": [
           {
            "marker": {
             "colorbar": {
              "outlinewidth": 0,
              "ticks": ""
             }
            },
            "type": "scatter"
           }
          ],
          "scatter3d": [
           {
            "line": {
             "colorbar": {
              "outlinewidth": 0,
              "ticks": ""
             }
            },
            "marker": {
             "colorbar": {
              "outlinewidth": 0,
              "ticks": ""
             }
            },
            "type": "scatter3d"
           }
          ],
          "scattercarpet": [
           {
            "marker": {
             "colorbar": {
              "outlinewidth": 0,
              "ticks": ""
             }
            },
            "type": "scattercarpet"
           }
          ],
          "scattergeo": [
           {
            "marker": {
             "colorbar": {
              "outlinewidth": 0,
              "ticks": ""
             }
            },
            "type": "scattergeo"
           }
          ],
          "scattergl": [
           {
            "marker": {
             "colorbar": {
              "outlinewidth": 0,
              "ticks": ""
             }
            },
            "type": "scattergl"
           }
          ],
          "scattermapbox": [
           {
            "marker": {
             "colorbar": {
              "outlinewidth": 0,
              "ticks": ""
             }
            },
            "type": "scattermapbox"
           }
          ],
          "scatterpolar": [
           {
            "marker": {
             "colorbar": {
              "outlinewidth": 0,
              "ticks": ""
             }
            },
            "type": "scatterpolar"
           }
          ],
          "scatterpolargl": [
           {
            "marker": {
             "colorbar": {
              "outlinewidth": 0,
              "ticks": ""
             }
            },
            "type": "scatterpolargl"
           }
          ],
          "scatterternary": [
           {
            "marker": {
             "colorbar": {
              "outlinewidth": 0,
              "ticks": ""
             }
            },
            "type": "scatterternary"
           }
          ],
          "surface": [
           {
            "colorbar": {
             "outlinewidth": 0,
             "ticks": ""
            },
            "colorscale": [
             [
              0,
              "#0d0887"
             ],
             [
              0.1111111111111111,
              "#46039f"
             ],
             [
              0.2222222222222222,
              "#7201a8"
             ],
             [
              0.3333333333333333,
              "#9c179e"
             ],
             [
              0.4444444444444444,
              "#bd3786"
             ],
             [
              0.5555555555555556,
              "#d8576b"
             ],
             [
              0.6666666666666666,
              "#ed7953"
             ],
             [
              0.7777777777777778,
              "#fb9f3a"
             ],
             [
              0.8888888888888888,
              "#fdca26"
             ],
             [
              1,
              "#f0f921"
             ]
            ],
            "type": "surface"
           }
          ],
          "table": [
           {
            "cells": {
             "fill": {
              "color": "#EBF0F8"
             },
             "line": {
              "color": "white"
             }
            },
            "header": {
             "fill": {
              "color": "#C8D4E3"
             },
             "line": {
              "color": "white"
             }
            },
            "type": "table"
           }
          ]
         },
         "layout": {
          "annotationdefaults": {
           "arrowcolor": "#2a3f5f",
           "arrowhead": 0,
           "arrowwidth": 1
          },
          "coloraxis": {
           "colorbar": {
            "outlinewidth": 0,
            "ticks": ""
           }
          },
          "colorscale": {
           "diverging": [
            [
             0,
             "#8e0152"
            ],
            [
             0.1,
             "#c51b7d"
            ],
            [
             0.2,
             "#de77ae"
            ],
            [
             0.3,
             "#f1b6da"
            ],
            [
             0.4,
             "#fde0ef"
            ],
            [
             0.5,
             "#f7f7f7"
            ],
            [
             0.6,
             "#e6f5d0"
            ],
            [
             0.7,
             "#b8e186"
            ],
            [
             0.8,
             "#7fbc41"
            ],
            [
             0.9,
             "#4d9221"
            ],
            [
             1,
             "#276419"
            ]
           ],
           "sequential": [
            [
             0,
             "#0d0887"
            ],
            [
             0.1111111111111111,
             "#46039f"
            ],
            [
             0.2222222222222222,
             "#7201a8"
            ],
            [
             0.3333333333333333,
             "#9c179e"
            ],
            [
             0.4444444444444444,
             "#bd3786"
            ],
            [
             0.5555555555555556,
             "#d8576b"
            ],
            [
             0.6666666666666666,
             "#ed7953"
            ],
            [
             0.7777777777777778,
             "#fb9f3a"
            ],
            [
             0.8888888888888888,
             "#fdca26"
            ],
            [
             1,
             "#f0f921"
            ]
           ],
           "sequentialminus": [
            [
             0,
             "#0d0887"
            ],
            [
             0.1111111111111111,
             "#46039f"
            ],
            [
             0.2222222222222222,
             "#7201a8"
            ],
            [
             0.3333333333333333,
             "#9c179e"
            ],
            [
             0.4444444444444444,
             "#bd3786"
            ],
            [
             0.5555555555555556,
             "#d8576b"
            ],
            [
             0.6666666666666666,
             "#ed7953"
            ],
            [
             0.7777777777777778,
             "#fb9f3a"
            ],
            [
             0.8888888888888888,
             "#fdca26"
            ],
            [
             1,
             "#f0f921"
            ]
           ]
          },
          "colorway": [
           "#636efa",
           "#EF553B",
           "#00cc96",
           "#ab63fa",
           "#FFA15A",
           "#19d3f3",
           "#FF6692",
           "#B6E880",
           "#FF97FF",
           "#FECB52"
          ],
          "font": {
           "color": "#2a3f5f"
          },
          "geo": {
           "bgcolor": "white",
           "lakecolor": "white",
           "landcolor": "#E5ECF6",
           "showlakes": true,
           "showland": true,
           "subunitcolor": "white"
          },
          "hoverlabel": {
           "align": "left"
          },
          "hovermode": "closest",
          "mapbox": {
           "style": "light"
          },
          "paper_bgcolor": "white",
          "plot_bgcolor": "#E5ECF6",
          "polar": {
           "angularaxis": {
            "gridcolor": "white",
            "linecolor": "white",
            "ticks": ""
           },
           "bgcolor": "#E5ECF6",
           "radialaxis": {
            "gridcolor": "white",
            "linecolor": "white",
            "ticks": ""
           }
          },
          "scene": {
           "xaxis": {
            "backgroundcolor": "#E5ECF6",
            "gridcolor": "white",
            "gridwidth": 2,
            "linecolor": "white",
            "showbackground": true,
            "ticks": "",
            "zerolinecolor": "white"
           },
           "yaxis": {
            "backgroundcolor": "#E5ECF6",
            "gridcolor": "white",
            "gridwidth": 2,
            "linecolor": "white",
            "showbackground": true,
            "ticks": "",
            "zerolinecolor": "white"
           },
           "zaxis": {
            "backgroundcolor": "#E5ECF6",
            "gridcolor": "white",
            "gridwidth": 2,
            "linecolor": "white",
            "showbackground": true,
            "ticks": "",
            "zerolinecolor": "white"
           }
          },
          "shapedefaults": {
           "line": {
            "color": "#2a3f5f"
           }
          },
          "ternary": {
           "aaxis": {
            "gridcolor": "white",
            "linecolor": "white",
            "ticks": ""
           },
           "baxis": {
            "gridcolor": "white",
            "linecolor": "white",
            "ticks": ""
           },
           "bgcolor": "#E5ECF6",
           "caxis": {
            "gridcolor": "white",
            "linecolor": "white",
            "ticks": ""
           }
          },
          "title": {
           "x": 0.05
          },
          "xaxis": {
           "automargin": true,
           "gridcolor": "white",
           "linecolor": "white",
           "ticks": "",
           "title": {
            "standoff": 15
           },
           "zerolinecolor": "white",
           "zerolinewidth": 2
          },
          "yaxis": {
           "automargin": true,
           "gridcolor": "white",
           "linecolor": "white",
           "ticks": "",
           "title": {
            "standoff": 15
           },
           "zerolinecolor": "white",
           "zerolinewidth": 2
          }
         }
        },
        "title": {
         "text": "Correlation Matrix for the involved chemical species"
        },
        "xaxis": {
         "autorange": true,
         "dtick": 1,
         "gridcolor": "rgb(0, 0, 0)",
         "range": [
          -0.5,
          7.5
         ],
         "side": "top",
         "ticks": "",
         "type": "category"
        },
        "yaxis": {
         "autorange": true,
         "dtick": 1,
         "range": [
          7.5,
          -0.5
         ],
         "ticks": "",
         "ticksuffix": "  ",
         "type": "category"
        }
       }
      },
      "image/png": "[encoded data removed]",
      "text/html": [
       "<div>\n",
       "        \n",
       "        \n",
       "            <div id=\"f607e1dd-a969-4c7e-8552-ac3a7ebeeeb7\" class=\"plotly-graph-div\" style=\"height:525px; width:100%;\"></div>\n",
       "            <script type=\"text/javascript\">\n",
       "                require([\"plotly\"], function(Plotly) {\n",
       "                    window.PLOTLYENV=window.PLOTLYENV || {};\n",
       "                    \n",
       "                if (document.getElementById(\"f607e1dd-a969-4c7e-8552-ac3a7ebeeeb7\")) {\n",
       "                    Plotly.newPlot(\n",
       "                        'f607e1dd-a969-4c7e-8552-ac3a7ebeeeb7',\n",
       "                        [{\"colorscale\": [[0.0, \"#0d0887\"], [0.1111111111111111, \"#46039f\"], [0.2222222222222222, \"#7201a8\"], [0.3333333333333333, \"#9c179e\"], [0.4444444444444444, \"#bd3786\"], [0.5555555555555556, \"#d8576b\"], [0.6666666666666666, \"#ed7953\"], [0.7777777777777778, \"#fb9f3a\"], [0.8888888888888888, \"#fdca26\"], [1.0, \"#f0f921\"]], \"reversescale\": false, \"showscale\": true, \"type\": \"heatmap\", \"x\": [\"Temp\", \"CH4\", \"O2\", \"H2O\", \"N2\", \"CO\", \"CO2\", \"H2\"], \"y\": [\"Temp\", \"CH4\", \"O2\", \"H2O\", \"N2\", \"CO\", \"CO2\", \"H2\"], \"z\": [[1.0, 0.4735777818508352, 0.8885386650444982, 0.8241402226996728, 0.9694853002323418, 0.700504843240187, 0.8753699061825115, 0.7068875719930358], [0.4735777818508352, 1.0, 0.8146582016963532, 0.8053037040903243, 0.29256524149731095, 0.5421145103144105, 0.8219104308010302, 0.5634931429401676], [0.8885386650444982, 0.8146582016963532, 1.0, 0.9722595883519488, 0.7716980371296679, 0.7256596719288912, 0.9817923053272675, 0.6901313325629342], [0.8241402226996728, 0.8053037040903243, 0.9722595883519488, 1.0, 0.6802067453784713, 0.6992170839269687, 0.9165243293588139, 0.5053614500377648], [0.9694853002323418, 0.29256524149731095, 0.7716980371296679, 0.6802067453784713, 1.0, 0.6782368239838937, 0.7686336859590716, 0.7175214746178394], [0.700504843240187, 0.5421145103144105, 0.7256596719288912, 0.6992170839269687, 0.6782368239838937, 1.0, 0.6564750749843005, 0.6035041504103406], [0.8753699061825115, 0.8219104308010302, 0.9817923053272675, 0.9165243293588139, 0.7686336859590716, 0.6564750749843005, 1.0, 0.7858492364679703], [0.7068875719930358, 0.5634931429401676, 0.6901313325629342, 0.5053614500377648, 0.7175214746178394, 0.6035041504103406, 0.7858492364679703, 1.0]]}],\n",
       "                        {\"annotations\": [{\"font\": {\"color\": \"#000000\"}, \"showarrow\": false, \"text\": \"1.0\", \"x\": \"Temp\", \"xref\": \"x\", \"y\": \"Temp\", \"yref\": \"y\"}, {\"font\": {\"color\": \"#FFFFFF\"}, \"showarrow\": false, \"text\": \"0.47\", \"x\": \"CH4\", \"xref\": \"x\", \"y\": \"Temp\", \"yref\": \"y\"}, {\"font\": {\"color\": \"#000000\"}, \"showarrow\": false, \"text\": \"0.89\", \"x\": \"O2\", \"xref\": \"x\", \"y\": \"Temp\", \"yref\": \"y\"}, {\"font\": {\"color\": \"#000000\"}, \"showarrow\": false, \"text\": \"0.82\", \"x\": \"H2O\", \"xref\": \"x\", \"y\": \"Temp\", \"yref\": \"y\"}, {\"font\": {\"color\": \"#000000\"}, \"showarrow\": false, \"text\": \"0.97\", \"x\": \"N2\", \"xref\": \"x\", \"y\": \"Temp\", \"yref\": \"y\"}, {\"font\": {\"color\": \"#000000\"}, \"showarrow\": false, \"text\": \"0.7\", \"x\": \"CO\", \"xref\": \"x\", \"y\": \"Temp\", \"yref\": \"y\"}, {\"font\": {\"color\": \"#000000\"}, \"showarrow\": false, \"text\": \"0.88\", \"x\": \"CO2\", \"xref\": \"x\", \"y\": \"Temp\", \"yref\": \"y\"}, {\"font\": {\"color\": \"#000000\"}, \"showarrow\": false, \"text\": \"0.71\", \"x\": \"H2\", \"xref\": \"x\", \"y\": \"Temp\", \"yref\": \"y\"}, {\"font\": {\"color\": \"#FFFFFF\"}, \"showarrow\": false, \"text\": \"0.47\", \"x\": \"Temp\", \"xref\": \"x\", \"y\": \"CH4\", \"yref\": \"y\"}, {\"font\": {\"color\": \"#000000\"}, \"showarrow\": false, \"text\": \"1.0\", \"x\": \"CH4\", \"xref\": \"x\", \"y\": \"CH4\", \"yref\": \"y\"}, {\"font\": {\"color\": \"#000000\"}, \"showarrow\": false, \"text\": \"0.81\", \"x\": \"O2\", \"xref\": \"x\", \"y\": \"CH4\", \"yref\": \"y\"}, {\"font\": {\"color\": \"#000000\"}, \"showarrow\": false, \"text\": \"0.81\", \"x\": \"H2O\", \"xref\": \"x\", \"y\": \"CH4\", \"yref\": \"y\"}, {\"font\": {\"color\": \"#FFFFFF\"}, \"showarrow\": false, \"text\": \"0.29\", \"x\": \"N2\", \"xref\": \"x\", \"y\": \"CH4\", \"yref\": \"y\"}, {\"font\": {\"color\": \"#FFFFFF\"}, \"showarrow\": false, \"text\": \"0.54\", \"x\": \"CO\", \"xref\": \"x\", \"y\": \"CH4\", \"yref\": \"y\"}, {\"font\": {\"color\": \"#000000\"}, \"showarrow\": false, \"text\": \"0.82\", \"x\": \"CO2\", \"xref\": \"x\", \"y\": \"CH4\", \"yref\": \"y\"}, {\"font\": {\"color\": \"#FFFFFF\"}, \"showarrow\": false, \"text\": \"0.56\", \"x\": \"H2\", \"xref\": \"x\", \"y\": \"CH4\", \"yref\": \"y\"}, {\"font\": {\"color\": \"#000000\"}, \"showarrow\": false, \"text\": \"0.89\", \"x\": \"Temp\", \"xref\": \"x\", \"y\": \"O2\", \"yref\": \"y\"}, {\"font\": {\"color\": \"#000000\"}, \"showarrow\": false, \"text\": \"0.81\", \"x\": \"CH4\", \"xref\": \"x\", \"y\": \"O2\", \"yref\": \"y\"}, {\"font\": {\"color\": \"#000000\"}, \"showarrow\": false, \"text\": \"1.0\", \"x\": \"O2\", \"xref\": \"x\", \"y\": \"O2\", \"yref\": \"y\"}, {\"font\": {\"color\": \"#000000\"}, \"showarrow\": false, \"text\": \"0.97\", \"x\": \"H2O\", \"xref\": \"x\", \"y\": \"O2\", \"yref\": \"y\"}, {\"font\": {\"color\": \"#000000\"}, \"showarrow\": false, \"text\": \"0.77\", \"x\": \"N2\", \"xref\": \"x\", \"y\": \"O2\", \"yref\": \"y\"}, {\"font\": {\"color\": \"#000000\"}, \"showarrow\": false, \"text\": \"0.73\", \"x\": \"CO\", \"xref\": \"x\", \"y\": \"O2\", \"yref\": \"y\"}, {\"font\": {\"color\": \"#000000\"}, \"showarrow\": false, \"text\": \"0.98\", \"x\": \"CO2\", \"xref\": \"x\", \"y\": \"O2\", \"yref\": \"y\"}, {\"font\": {\"color\": \"#000000\"}, \"showarrow\": false, \"text\": \"0.69\", \"x\": \"H2\", \"xref\": \"x\", \"y\": \"O2\", \"yref\": \"y\"}, {\"font\": {\"color\": \"#000000\"}, \"showarrow\": false, \"text\": \"0.82\", \"x\": \"Temp\", \"xref\": \"x\", \"y\": \"H2O\", \"yref\": \"y\"}, {\"font\": {\"color\": \"#000000\"}, \"showarrow\": false, \"text\": \"0.81\", \"x\": \"CH4\", \"xref\": \"x\", \"y\": \"H2O\", \"yref\": \"y\"}, {\"font\": {\"color\": \"#000000\"}, \"showarrow\": false, \"text\": \"0.97\", \"x\": \"O2\", \"xref\": \"x\", \"y\": \"H2O\", \"yref\": \"y\"}, {\"font\": {\"color\": \"#000000\"}, \"showarrow\": false, \"text\": \"1.0\", \"x\": \"H2O\", \"xref\": \"x\", \"y\": \"H2O\", \"yref\": \"y\"}, {\"font\": {\"color\": \"#000000\"}, \"showarrow\": false, \"text\": \"0.68\", \"x\": \"N2\", \"xref\": \"x\", \"y\": \"H2O\", \"yref\": \"y\"}, {\"font\": {\"color\": \"#000000\"}, \"showarrow\": false, \"text\": \"0.7\", \"x\": \"CO\", \"xref\": \"x\", \"y\": \"H2O\", \"yref\": \"y\"}, {\"font\": {\"color\": \"#000000\"}, \"showarrow\": false, \"text\": \"0.92\", \"x\": \"CO2\", \"xref\": \"x\", \"y\": \"H2O\", \"yref\": \"y\"}, {\"font\": {\"color\": \"#FFFFFF\"}, \"showarrow\": false, \"text\": \"0.51\", \"x\": \"H2\", \"xref\": \"x\", \"y\": \"H2O\", \"yref\": \"y\"}, {\"font\": {\"color\": \"#000000\"}, \"showarrow\": false, \"text\": \"0.97\", \"x\": \"Temp\", \"xref\": \"x\", \"y\": \"N2\", \"yref\": \"y\"}, {\"font\": {\"color\": \"#FFFFFF\"}, \"showarrow\": false, \"text\": \"0.29\", \"x\": \"CH4\", \"xref\": \"x\", \"y\": \"N2\", \"yref\": \"y\"}, {\"font\": {\"color\": \"#000000\"}, \"showarrow\": false, \"text\": \"0.77\", \"x\": \"O2\", \"xref\": \"x\", \"y\": \"N2\", \"yref\": \"y\"}, {\"font\": {\"color\": \"#000000\"}, \"showarrow\": false, \"text\": \"0.68\", \"x\": \"H2O\", \"xref\": \"x\", \"y\": \"N2\", \"yref\": \"y\"}, {\"font\": {\"color\": \"#000000\"}, \"showarrow\": false, \"text\": \"1.0\", \"x\": \"N2\", \"xref\": \"x\", \"y\": \"N2\", \"yref\": \"y\"}, {\"font\": {\"color\": \"#000000\"}, \"showarrow\": false, \"text\": \"0.68\", \"x\": \"CO\", \"xref\": \"x\", \"y\": \"N2\", \"yref\": \"y\"}, {\"font\": {\"color\": \"#000000\"}, \"showarrow\": false, \"text\": \"0.77\", \"x\": \"CO2\", \"xref\": \"x\", \"y\": \"N2\", \"yref\": \"y\"}, {\"font\": {\"color\": \"#000000\"}, \"showarrow\": false, \"text\": \"0.72\", \"x\": \"H2\", \"xref\": \"x\", \"y\": \"N2\", \"yref\": \"y\"}, {\"font\": {\"color\": \"#000000\"}, \"showarrow\": false, \"text\": \"0.7\", \"x\": \"Temp\", \"xref\": \"x\", \"y\": \"CO\", \"yref\": \"y\"}, {\"font\": {\"color\": \"#FFFFFF\"}, \"showarrow\": false, \"text\": \"0.54\", \"x\": \"CH4\", \"xref\": \"x\", \"y\": \"CO\", \"yref\": \"y\"}, {\"font\": {\"color\": \"#000000\"}, \"showarrow\": false, \"text\": \"0.73\", \"x\": \"O2\", \"xref\": \"x\", \"y\": \"CO\", \"yref\": \"y\"}, {\"font\": {\"color\": \"#000000\"}, \"showarrow\": false, \"text\": \"0.7\", \"x\": \"H2O\", \"xref\": \"x\", \"y\": \"CO\", \"yref\": \"y\"}, {\"font\": {\"color\": \"#000000\"}, \"showarrow\": false, \"text\": \"0.68\", \"x\": \"N2\", \"xref\": \"x\", \"y\": \"CO\", \"yref\": \"y\"}, {\"font\": {\"color\": \"#000000\"}, \"showarrow\": false, \"text\": \"1.0\", \"x\": \"CO\", \"xref\": \"x\", \"y\": \"CO\", \"yref\": \"y\"}, {\"font\": {\"color\": \"#000000\"}, \"showarrow\": false, \"text\": \"0.66\", \"x\": \"CO2\", \"xref\": \"x\", \"y\": \"CO\", \"yref\": \"y\"}, {\"font\": {\"color\": \"#FFFFFF\"}, \"showarrow\": false, \"text\": \"0.6\", \"x\": \"H2\", \"xref\": \"x\", \"y\": \"CO\", \"yref\": \"y\"}, {\"font\": {\"color\": \"#000000\"}, \"showarrow\": false, \"text\": \"0.88\", \"x\": \"Temp\", \"xref\": \"x\", \"y\": \"CO2\", \"yref\": \"y\"}, {\"font\": {\"color\": \"#000000\"}, \"showarrow\": false, \"text\": \"0.82\", \"x\": \"CH4\", \"xref\": \"x\", \"y\": \"CO2\", \"yref\": \"y\"}, {\"font\": {\"color\": \"#000000\"}, \"showarrow\": false, \"text\": \"0.98\", \"x\": \"O2\", \"xref\": \"x\", \"y\": \"CO2\", \"yref\": \"y\"}, {\"font\": {\"color\": \"#000000\"}, \"showarrow\": false, \"text\": \"0.92\", \"x\": \"H2O\", \"xref\": \"x\", \"y\": \"CO2\", \"yref\": \"y\"}, {\"font\": {\"color\": \"#000000\"}, \"showarrow\": false, \"text\": \"0.77\", \"x\": \"N2\", \"xref\": \"x\", \"y\": \"CO2\", \"yref\": \"y\"}, {\"font\": {\"color\": \"#000000\"}, \"showarrow\": false, \"text\": \"0.66\", \"x\": \"CO\", \"xref\": \"x\", \"y\": \"CO2\", \"yref\": \"y\"}, {\"font\": {\"color\": \"#000000\"}, \"showarrow\": false, \"text\": \"1.0\", \"x\": \"CO2\", \"xref\": \"x\", \"y\": \"CO2\", \"yref\": \"y\"}, {\"font\": {\"color\": \"#000000\"}, \"showarrow\": false, \"text\": \"0.79\", \"x\": \"H2\", \"xref\": \"x\", \"y\": \"CO2\", \"yref\": \"y\"}, {\"font\": {\"color\": \"#000000\"}, \"showarrow\": false, \"text\": \"0.71\", \"x\": \"Temp\", \"xref\": \"x\", \"y\": \"H2\", \"yref\": \"y\"}, {\"font\": {\"color\": \"#FFFFFF\"}, \"showarrow\": false, \"text\": \"0.56\", \"x\": \"CH4\", \"xref\": \"x\", \"y\": \"H2\", \"yref\": \"y\"}, {\"font\": {\"color\": \"#000000\"}, \"showarrow\": false, \"text\": \"0.69\", \"x\": \"O2\", \"xref\": \"x\", \"y\": \"H2\", \"yref\": \"y\"}, {\"font\": {\"color\": \"#FFFFFF\"}, \"showarrow\": false, \"text\": \"0.51\", \"x\": \"H2O\", \"xref\": \"x\", \"y\": \"H2\", \"yref\": \"y\"}, {\"font\": {\"color\": \"#000000\"}, \"showarrow\": false, \"text\": \"0.72\", \"x\": \"N2\", \"xref\": \"x\", \"y\": \"H2\", \"yref\": \"y\"}, {\"font\": {\"color\": \"#FFFFFF\"}, \"showarrow\": false, \"text\": \"0.6\", \"x\": \"CO\", \"xref\": \"x\", \"y\": \"H2\", \"yref\": \"y\"}, {\"font\": {\"color\": \"#000000\"}, \"showarrow\": false, \"text\": \"0.79\", \"x\": \"CO2\", \"xref\": \"x\", \"y\": \"H2\", \"yref\": \"y\"}, {\"font\": {\"color\": \"#000000\"}, \"showarrow\": false, \"text\": \"1.0\", \"x\": \"H2\", \"xref\": \"x\", \"y\": \"H2\", \"yref\": \"y\"}], \"template\": {\"data\": {\"bar\": [{\"error_x\": {\"color\": \"#2a3f5f\"}, \"error_y\": {\"color\": \"#2a3f5f\"}, \"marker\": {\"line\": {\"color\": \"#E5ECF6\", \"width\": 0.5}}, \"type\": \"bar\"}], \"barpolar\": [{\"marker\": {\"line\": {\"color\": \"#E5ECF6\", \"width\": 0.5}}, \"type\": \"barpolar\"}], \"carpet\": [{\"aaxis\": {\"endlinecolor\": \"#2a3f5f\", \"gridcolor\": \"white\", \"linecolor\": \"white\", \"minorgridcolor\": \"white\", \"startlinecolor\": \"#2a3f5f\"}, \"baxis\": {\"endlinecolor\": \"#2a3f5f\", \"gridcolor\": \"white\", \"linecolor\": \"white\", \"minorgridcolor\": \"white\", \"startlinecolor\": \"#2a3f5f\"}, \"type\": \"carpet\"}], \"choropleth\": [{\"colorbar\": {\"outlinewidth\": 0, \"ticks\": \"\"}, \"type\": \"choropleth\"}], \"contour\": [{\"colorbar\": {\"outlinewidth\": 0, \"ticks\": \"\"}, \"colorscale\": [[0.0, \"#0d0887\"], [0.1111111111111111, \"#46039f\"], [0.2222222222222222, \"#7201a8\"], [0.3333333333333333, \"#9c179e\"], [0.4444444444444444, \"#bd3786\"], [0.5555555555555556, \"#d8576b\"], [0.6666666666666666, \"#ed7953\"], [0.7777777777777778, \"#fb9f3a\"], [0.8888888888888888, \"#fdca26\"], [1.0, \"#f0f921\"]], \"type\": \"contour\"}], \"contourcarpet\": [{\"colorbar\": {\"outlinewidth\": 0, \"ticks\": \"\"}, \"type\": \"contourcarpet\"}], \"heatmap\": [{\"colorbar\": {\"outlinewidth\": 0, \"ticks\": \"\"}, \"colorscale\": [[0.0, \"#0d0887\"], [0.1111111111111111, \"#46039f\"], [0.2222222222222222, \"#7201a8\"], [0.3333333333333333, \"#9c179e\"], [0.4444444444444444, \"#bd3786\"], [0.5555555555555556, \"#d8576b\"], [0.6666666666666666, \"#ed7953\"], [0.7777777777777778, \"#fb9f3a\"], [0.8888888888888888, \"#fdca26\"], [1.0, \"#f0f921\"]], \"type\": \"heatmap\"}], \"heatmapgl\": [{\"colorbar\": {\"outlinewidth\": 0, \"ticks\": \"\"}, \"colorscale\": [[0.0, \"#0d0887\"], [0.1111111111111111, \"#46039f\"], [0.2222222222222222, \"#7201a8\"], [0.3333333333333333, \"#9c179e\"], [0.4444444444444444, \"#bd3786\"], [0.5555555555555556, \"#d8576b\"], [0.6666666666666666, \"#ed7953\"], [0.7777777777777778, \"#fb9f3a\"], [0.8888888888888888, \"#fdca26\"], [1.0, \"#f0f921\"]], \"type\": \"heatmapgl\"}], \"histogram\": [{\"marker\": {\"colorbar\": {\"outlinewidth\": 0, \"ticks\": \"\"}}, \"type\": \"histogram\"}], \"histogram2d\": [{\"colorbar\": {\"outlinewidth\": 0, \"ticks\": \"\"}, \"colorscale\": [[0.0, \"#0d0887\"], [0.1111111111111111, \"#46039f\"], [0.2222222222222222, \"#7201a8\"], [0.3333333333333333, \"#9c179e\"], [0.4444444444444444, \"#bd3786\"], [0.5555555555555556, \"#d8576b\"], [0.6666666666666666, \"#ed7953\"], [0.7777777777777778, \"#fb9f3a\"], [0.8888888888888888, \"#fdca26\"], [1.0, \"#f0f921\"]], \"type\": \"histogram2d\"}], \"histogram2dcontour\": [{\"colorbar\": {\"outlinewidth\": 0, \"ticks\": \"\"}, \"colorscale\": [[0.0, \"#0d0887\"], [0.1111111111111111, \"#46039f\"], [0.2222222222222222, \"#7201a8\"], [0.3333333333333333, \"#9c179e\"], [0.4444444444444444, \"#bd3786\"], [0.5555555555555556, \"#d8576b\"], [0.6666666666666666, \"#ed7953\"], [0.7777777777777778, \"#fb9f3a\"], [0.8888888888888888, \"#fdca26\"], [1.0, \"#f0f921\"]], \"type\": \"histogram2dcontour\"}], \"mesh3d\": [{\"colorbar\": {\"outlinewidth\": 0, \"ticks\": \"\"}, \"type\": \"mesh3d\"}], \"parcoords\": [{\"line\": {\"colorbar\": {\"outlinewidth\": 0, \"ticks\": \"\"}}, \"type\": \"parcoords\"}], \"pie\": [{\"automargin\": true, \"type\": \"pie\"}], \"scatter\": [{\"marker\": {\"colorbar\": {\"outlinewidth\": 0, \"ticks\": \"\"}}, \"type\": \"scatter\"}], \"scatter3d\": [{\"line\": {\"colorbar\": {\"outlinewidth\": 0, \"ticks\": \"\"}}, \"marker\": {\"colorbar\": {\"outlinewidth\": 0, \"ticks\": \"\"}}, \"type\": \"scatter3d\"}], \"scattercarpet\": [{\"marker\": {\"colorbar\": {\"outlinewidth\": 0, \"ticks\": \"\"}}, \"type\": \"scattercarpet\"}], \"scattergeo\": [{\"marker\": {\"colorbar\": {\"outlinewidth\": 0, \"ticks\": \"\"}}, \"type\": \"scattergeo\"}], \"scattergl\": [{\"marker\": {\"colorbar\": {\"outlinewidth\": 0, \"ticks\": \"\"}}, \"type\": \"scattergl\"}], \"scattermapbox\": [{\"marker\": {\"colorbar\": {\"outlinewidth\": 0, \"ticks\": \"\"}}, \"type\": \"scattermapbox\"}], \"scatterpolar\": [{\"marker\": {\"colorbar\": {\"outlinewidth\": 0, \"ticks\": \"\"}}, \"type\": \"scatterpolar\"}], \"scatterpolargl\": [{\"marker\": {\"colorbar\": {\"outlinewidth\": 0, \"ticks\": \"\"}}, \"type\": \"scatterpolargl\"}], \"scatterternary\": [{\"marker\": {\"colorbar\": {\"outlinewidth\": 0, \"ticks\": \"\"}}, \"type\": \"scatterternary\"}], \"surface\": [{\"colorbar\": {\"outlinewidth\": 0, \"ticks\": \"\"}, \"colorscale\": [[0.0, \"#0d0887\"], [0.1111111111111111, \"#46039f\"], [0.2222222222222222, \"#7201a8\"], [0.3333333333333333, \"#9c179e\"], [0.4444444444444444, \"#bd3786\"], [0.5555555555555556, \"#d8576b\"], [0.6666666666666666, \"#ed7953\"], [0.7777777777777778, \"#fb9f3a\"], [0.8888888888888888, \"#fdca26\"], [1.0, \"#f0f921\"]], \"type\": \"surface\"}], \"table\": [{\"cells\": {\"fill\": {\"color\": \"#EBF0F8\"}, \"line\": {\"color\": \"white\"}}, \"header\": {\"fill\": {\"color\": \"#C8D4E3\"}, \"line\": {\"color\": \"white\"}}, \"type\": \"table\"}]}, \"layout\": {\"annotationdefaults\": {\"arrowcolor\": \"#2a3f5f\", \"arrowhead\": 0, \"arrowwidth\": 1}, \"coloraxis\": {\"colorbar\": {\"outlinewidth\": 0, \"ticks\": \"\"}}, \"colorscale\": {\"diverging\": [[0, \"#8e0152\"], [0.1, \"#c51b7d\"], [0.2, \"#de77ae\"], [0.3, \"#f1b6da\"], [0.4, \"#fde0ef\"], [0.5, \"#f7f7f7\"], [0.6, \"#e6f5d0\"], [0.7, \"#b8e186\"], [0.8, \"#7fbc41\"], [0.9, \"#4d9221\"], [1, \"#276419\"]], \"sequential\": [[0.0, \"#0d0887\"], [0.1111111111111111, \"#46039f\"], [0.2222222222222222, \"#7201a8\"], [0.3333333333333333, \"#9c179e\"], [0.4444444444444444, \"#bd3786\"], [0.5555555555555556, \"#d8576b\"], [0.6666666666666666, \"#ed7953\"], [0.7777777777777778, \"#fb9f3a\"], [0.8888888888888888, \"#fdca26\"], [1.0, \"#f0f921\"]], \"sequentialminus\": [[0.0, \"#0d0887\"], [0.1111111111111111, \"#46039f\"], [0.2222222222222222, \"#7201a8\"], [0.3333333333333333, \"#9c179e\"], [0.4444444444444444, \"#bd3786\"], [0.5555555555555556, \"#d8576b\"], [0.6666666666666666, \"#ed7953\"], [0.7777777777777778, \"#fb9f3a\"], [0.8888888888888888, \"#fdca26\"], [1.0, \"#f0f921\"]]}, \"colorway\": [\"#636efa\", \"#EF553B\", \"#00cc96\", \"#ab63fa\", \"#FFA15A\", \"#19d3f3\", \"#FF6692\", \"#B6E880\", \"#FF97FF\", \"#FECB52\"], \"font\": {\"color\": \"#2a3f5f\"}, \"geo\": {\"bgcolor\": \"white\", \"lakecolor\": \"white\", \"landcolor\": \"#E5ECF6\", \"showlakes\": true, \"showland\": true, \"subunitcolor\": \"white\"}, \"hoverlabel\": {\"align\": \"left\"}, \"hovermode\": \"closest\", \"mapbox\": {\"style\": \"light\"}, \"paper_bgcolor\": \"white\", \"plot_bgcolor\": \"#E5ECF6\", \"polar\": {\"angularaxis\": {\"gridcolor\": \"white\", \"linecolor\": \"white\", \"ticks\": \"\"}, \"bgcolor\": \"#E5ECF6\", \"radialaxis\": {\"gridcolor\": \"white\", \"linecolor\": \"white\", \"ticks\": \"\"}}, \"scene\": {\"xaxis\": {\"backgroundcolor\": \"#E5ECF6\", \"gridcolor\": \"white\", \"gridwidth\": 2, \"linecolor\": \"white\", \"showbackground\": true, \"ticks\": \"\", \"zerolinecolor\": \"white\"}, \"yaxis\": {\"backgroundcolor\": \"#E5ECF6\", \"gridcolor\": \"white\", \"gridwidth\": 2, \"linecolor\": \"white\", \"showbackground\": true, \"ticks\": \"\", \"zerolinecolor\": \"white\"}, \"zaxis\": {\"backgroundcolor\": \"#E5ECF6\", \"gridcolor\": \"white\", \"gridwidth\": 2, \"linecolor\": \"white\", \"showbackground\": true, \"ticks\": \"\", \"zerolinecolor\": \"white\"}}, \"shapedefaults\": {\"line\": {\"color\": \"#2a3f5f\"}}, \"ternary\": {\"aaxis\": {\"gridcolor\": \"white\", \"linecolor\": \"white\", \"ticks\": \"\"}, \"baxis\": {\"gridcolor\": \"white\", \"linecolor\": \"white\", \"ticks\": \"\"}, \"bgcolor\": \"#E5ECF6\", \"caxis\": {\"gridcolor\": \"white\", \"linecolor\": \"white\", \"ticks\": \"\"}}, \"title\": {\"x\": 0.05}, \"xaxis\": {\"automargin\": true, \"gridcolor\": \"white\", \"linecolor\": \"white\", \"ticks\": \"\", \"title\": {\"standoff\": 15}, \"zerolinecolor\": \"white\", \"zerolinewidth\": 2}, \"yaxis\": {\"automargin\": true, \"gridcolor\": \"white\", \"linecolor\": \"white\", \"ticks\": \"\", \"title\": {\"standoff\": 15}, \"zerolinecolor\": \"white\", \"zerolinewidth\": 2}}}, \"title\": {\"text\": \"Correlation Matrix for the involved chemical species\"}, \"xaxis\": {\"dtick\": 1, \"gridcolor\": \"rgb(0, 0, 0)\", \"side\": \"top\", \"ticks\": \"\"}, \"yaxis\": {\"autorange\": \"reversed\", \"dtick\": 1, \"ticks\": \"\", \"ticksuffix\": \"  \"}},\n",
       "                        {\"responsive\": true}\n",
       "                    ).then(function(){\n",
       "                            \n",
       "var gd = document.getElementById('f607e1dd-a969-4c7e-8552-ac3a7ebeeeb7');\n",
       "var x = new MutationObserver(function (mutations, observer) {{\n",
       "        var display = window.getComputedStyle(gd).display;\n",
       "        if (!display || display === 'none') {{\n",
       "            console.log([gd, 'removed!']);\n",
       "            Plotly.purge(gd);\n",
       "            observer.disconnect();\n",
       "        }}\n",
       "}});\n",
       "\n",
       "// Listen for the removal of the full notebook cells\n",
       "var notebookContainer = gd.closest('#notebook-container');\n",
       "if (notebookContainer) {{\n",
       "    x.observe(notebookContainer, {childList: true});\n",
       "}}\n",
       "\n",
       "// Listen for the clearing of the current output cell\n",
       "var outputEl = gd.closest('.output');\n",
       "if (outputEl) {{\n",
       "    x.observe(outputEl, {childList: true});\n",
       "}}\n",
       "\n",
       "                        })\n",
       "                };\n",
       "                });\n",
       "            </script>\n",
       "        </div>"
      ]
     },
     "metadata": {},
     "output_type": "display_data"
    }
   ],
   "source": [
    "import plotly.figure_factory as ff\n",
    "var=['Temp']+gas.species_names\n",
    "corrs=Output[var].corr().abs()\n",
    "\n",
    "figure = ff.create_annotated_heatmap(\n",
    "    z=corrs.values,\n",
    "    x=list(corrs.columns),\n",
    "    y=list(corrs.index),\n",
    "    annotation_text=corrs.round(2).values,\n",
    "    showscale=True)\n",
    "figure.update_yaxes(autorange=\"reversed\")\n",
    "figure.update_layout(\n",
    "    title=\"Correlation Matrix for the involved chemical species\"\n",
    ")\n",
    "figure.show()"
   ]
  },
  {
   "cell_type": "code",
   "execution_count": null,
   "metadata": {},
   "outputs": [],
   "source": []
  },
  {
   "cell_type": "code",
   "execution_count": null,
   "metadata": {},
   "outputs": [],
   "source": []
  },
  {
   "cell_type": "code",
   "execution_count": null,
   "metadata": {},
   "outputs": [],
   "source": []
  }
 ],
 "metadata": {
  "kernelspec": {
   "display_name": "Python 3",
   "language": "python",
   "name": "python3"
  },
  "language_info": {
   "codemirror_mode": {
    "name": "ipython",
    "version": 3
   },
   "file_extension": ".py",
   "mimetype": "text/x-python",
   "name": "python",
   "nbconvert_exporter": "python",
   "pygments_lexer": "ipython3",
   "version": "3.7.7"
  }
 },
 "nbformat": 4,
 "nbformat_minor": 4
}
