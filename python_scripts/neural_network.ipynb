{
 "cells": [
  {
   "cell_type": "code",
   "execution_count": null,
   "metadata": {},
   "outputs": [],
   "source": [
    "import comet_ml\n",
    "from comet_ml import Experiment\n",
    "import torch\n",
    "import torchvision\n",
    "import numpy as np\n",
    "import matplotlib.pyplot as plt\n",
    "import torch.nn as nn\n",
    "import torch.nn.functional as F\n",
    "from torchvision.transforms import ToTensor\n",
    "from torchvision.utils import make_grid\n",
    "from torch.utils.data.dataloader import DataLoader\n",
    "from torch.utils.data import random_split\n",
    "%matplotlib inline"
   ]
  },
  {
   "cell_type": "code",
   "execution_count": null,
   "metadata": {},
   "outputs": [],
   "source": [
    "samples=1000\n",
    "step=1e-7\n",
    "path='../data/'+str(samples)+'_'+str(step)+'/'\n",
    "i=1\n"
   ]
  },
  {
   "cell_type": "code",
   "execution_count": null,
   "metadata": {},
   "outputs": [],
   "source": [
    "import pandas as pd\n",
    "Input=pd.read_csv(path+'input/input_'+str(i)+'.csv', sep=',')\n",
    "input_var=Input.columns[:8]\n",
    "Input=torch.from_numpy(Input[input_var].values)\n",
    "\n",
    "Output=pd.read_csv(path+'output/output_'+str(i)+'.csv', sep=',')\n",
    "Output_var=Output.columns[1:8]\n",
    "Output=torch.from_numpy(Output[Output_var].values)"
   ]
  },
  {
   "cell_type": "code",
   "execution_count": null,
   "metadata": {},
   "outputs": [],
   "source": [
    "   \n",
    "# Add the following code anywhere in your machine learning file\n",
    "experiment = Experiment(api_key=\"D4ClOaV8GaZLHo0I2et7bOHgy\",\n",
    "                        project_name=\"ann-combustion-test\", workspace=\"mdcabrera\")\n"
   ]
  }
 ],
 "metadata": {
  "kernelspec": {
   "display_name": "Python 3",
   "language": "python",
   "name": "python3"
  },
  "language_info": {
   "codemirror_mode": {
    "name": "ipython",
    "version": 3
   },
   "file_extension": ".py",
   "mimetype": "text/x-python",
   "name": "python",
   "nbconvert_exporter": "python",
   "pygments_lexer": "ipython3",
   "version": "3.7.7"
  }
 },
 "nbformat": 4,
 "nbformat_minor": 4
}
