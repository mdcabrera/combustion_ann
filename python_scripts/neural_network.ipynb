{
 "cells": [
  {
   "cell_type": "code",
   "execution_count": 1,
   "metadata": {},
   "outputs": [
    {
     "name": "stderr",
     "output_type": "stream",
     "text": [
      "Using TensorFlow backend.\n"
     ]
    }
   ],
   "source": [
    "import comet_ml\n",
    "from comet_ml import Experiment\n",
    "from sklearn.model_selection import train_test_split\n",
    "import pandas as pd\n",
    "\n",
    "import keras\n",
    "from keras.models import Sequential\n",
    "from keras.layers import Dense, InputLayer, Dropout\n",
    "from keras.callbacks import EarlyStopping\n",
    "%matplotlib inline"
   ]
  },
  {
   "cell_type": "code",
   "execution_count": 2,
   "metadata": {},
   "outputs": [
    {
     "name": "stderr",
     "output_type": "stream",
     "text": [
      "COMET INFO: Experiment is live on comet.ml https://www.comet.ml/mdcabrera/ann-combustion-test/ae3217d5560d4de38fdcf1f16cefba00\n",
      "\n"
     ]
    }
   ],
   "source": [
    "   \n",
    "# Add the following code anywhere in your machine learning file\n",
    "experiment = Experiment(api_key=\"D4ClOaV8GaZLHo0I2et7bOHgy\",\n",
    "                        project_name=\"ann-combustion-test\", workspace=\"mdcabrera\"\n",
    "                       ,auto_param_logging=False)\n",
    "\n",
    "\n"
   ]
  },
  {
   "cell_type": "code",
   "execution_count": 3,
   "metadata": {},
   "outputs": [],
   "source": [
    "samples=5000\n",
    "step=1e-7\n",
    "batch_size = 128\n",
    "epochs = 20\n",
    "optimizer = 'sgd'\n",
    "architecture = [[7,'tanh'],[7,'linear']]\n",
    "loss_function='mean_squared_error'\n",
    "min_delta=1e-8"
   ]
  },
  {
   "cell_type": "code",
   "execution_count": 4,
   "metadata": {},
   "outputs": [],
   "source": [
    "path='../data/'+str(samples)+'_'+str(step)+'/'\n",
    "i=1\n",
    "Input=pd.read_csv(path+'input/input_'+str(i)+'.csv', sep=',')\n",
    "input_var=Input.columns[:8]\n",
    "Input=Input[input_var].values\n",
    "\n",
    "Output=pd.read_csv(path+'output/output_'+str(i)+'.csv', sep=',')\n",
    "Output_var=Output.columns[1:8]\n",
    "Output=Output[Output_var].values"
   ]
  },
  {
   "cell_type": "code",
   "execution_count": 5,
   "metadata": {},
   "outputs": [
    {
     "name": "stdout",
     "output_type": "stream",
     "text": [
      "(1460307, 8) (312923, 8) (312923, 8) (1460307, 7) (312923, 7) (312923, 7)\n"
     ]
    }
   ],
   "source": [
    "# Splitting the dataset into train, test and val\n",
    "\n",
    "X_train, X_val_and_test, Y_train, Y_val_and_test = train_test_split(Input, Output, test_size=0.3)\n",
    "X_val, X_test, Y_val, Y_test = train_test_split(X_val_and_test, Y_val_and_test, test_size=0.5)\n",
    "print(X_train.shape, X_val.shape, X_test.shape, Y_train.shape, Y_val.shape, Y_test.shape)\n",
    "s=X_train.shape[1]"
   ]
  },
  {
   "cell_type": "code",
   "execution_count": null,
   "metadata": {},
   "outputs": [],
   "source": []
  },
  {
   "cell_type": "code",
   "execution_count": 6,
   "metadata": {},
   "outputs": [
    {
     "name": "stdout",
     "output_type": "stream",
     "text": [
      "Model: \"sequential_1\"\n",
      "_________________________________________________________________\n",
      "Layer (type)                 Output Shape              Param #   \n",
      "=================================================================\n",
      "dense_1 (Dense)              (None, 7)                 63        \n",
      "_________________________________________________________________\n",
      "dense_2 (Dense)              (None, 7)                 56        \n",
      "=================================================================\n",
      "Total params: 119\n",
      "Trainable params: 119\n",
      "Non-trainable params: 0\n",
      "_________________________________________________________________\n"
     ]
    }
   ],
   "source": [
    "model=Sequential()\n",
    "model.add(InputLayer(input_shape=(s,)))\n",
    "for x in architecture:\n",
    "    model.add(Dense(x[0],activation=x[1]))\n",
    "model.summary()"
   ]
  },
  {
   "cell_type": "code",
   "execution_count": 7,
   "metadata": {},
   "outputs": [],
   "source": [
    "model.compile(loss=loss_function,\n",
    "              optimizer=optimizer,\n",
    "              metrics=['accuracy'])"
   ]
  },
  {
   "cell_type": "code",
   "execution_count": 8,
   "metadata": {},
   "outputs": [],
   "source": [
    "params={'batch_size':batch_size,\n",
    "        'epochs':epochs,\n",
    "        'architecture':architecture,\n",
    "        'optimizer':optimizer,\n",
    "        'loss_function':loss_function,\n",
    "        'samples':samples,\n",
    "        'step_size':step,\n",
    "        'min_delta':min_delta\n",
    "}\n"
   ]
  },
  {
   "cell_type": "code",
   "execution_count": 9,
   "metadata": {},
   "outputs": [
    {
     "name": "stdout",
     "output_type": "stream",
     "text": [
      "WARNING:tensorflow:From /home/marlon/anaconda3/envs/tensor/lib/python3.7/site-packages/keras/backend/tensorflow_backend.py:422: The name tf.global_variables is deprecated. Please use tf.compat.v1.global_variables instead.\n",
      "\n",
      "Train on 1460307 samples, validate on 312923 samples\n",
      "Epoch 1/20\n",
      "    128/1460307 [..............................] - ETA: 1:56:27 - loss: 1.2819 - accuracy: 0.0000e+00"
     ]
    },
    {
     "name": "stderr",
     "output_type": "stream",
     "text": [
      "COMET INFO: Ignoring automatic log_metric('batch_batch') because 'keras:batch_batch' is in COMET_LOGGING_METRICS_IGNORE\n",
      "COMET INFO: Ignoring automatic log_metric('batch_size') because 'keras:batch_size' is in COMET_LOGGING_METRICS_IGNORE\n"
     ]
    },
    {
     "name": "stdout",
     "output_type": "stream",
     "text": [
      "1460307/1460307 [==============================] - 15s 10us/step - loss: 0.0037 - accuracy: 0.9968 - val_loss: 0.0012 - val_accuracy: 1.0000\n",
      "Epoch 2/20\n",
      "1460307/1460307 [==============================] - 14s 10us/step - loss: 0.0012 - accuracy: 1.0000 - val_loss: 0.0012 - val_accuracy: 1.0000\n",
      "Epoch 3/20\n",
      "1460307/1460307 [==============================] - 16s 11us/step - loss: 0.0012 - accuracy: 1.0000 - val_loss: 0.0012 - val_accuracy: 1.0000\n",
      "Epoch 4/20\n",
      "1460307/1460307 [==============================] - 15s 10us/step - loss: 0.0012 - accuracy: 1.0000 - val_loss: 0.0012 - val_accuracy: 1.0000\n",
      "Epoch 5/20\n",
      "1460307/1460307 [==============================] - 16s 11us/step - loss: 0.0012 - accuracy: 1.0000 - val_loss: 0.0012 - val_accuracy: 1.0000\n",
      "Epoch 00005: early stopping\n"
     ]
    }
   ],
   "source": [
    "with experiment.train():\n",
    "    history = model.fit(X_train, Y_train,\n",
    "                        batch_size=batch_size,\n",
    "                        epochs=epochs,\n",
    "                        verbose=1,\n",
    "                        validation_data=(X_test, Y_test),\n",
    "                        callbacks=[EarlyStopping(monitor='val_loss', min_delta=min_delta,patience=3, verbose=1, mode='auto')])\n"
   ]
  },
  {
   "cell_type": "code",
   "execution_count": 10,
   "metadata": {},
   "outputs": [
    {
     "name": "stdout",
     "output_type": "stream",
     "text": [
      "312923/312923 [==============================] - 6s 18us/step\n"
     ]
    }
   ],
   "source": [
    "with experiment.test():\n",
    "    loss, accuracy = model.evaluate(X_val, Y_val)\n",
    "    metrics = {\n",
    "        'loss':loss,\n",
    "        'accuracy':accuracy\n",
    "    }\n",
    "    experiment.log_metrics(metrics)\n",
    "\n",
    "experiment.log_parameters(params)\n",
    "experiment.log_dataset_hash(X_train)"
   ]
  },
  {
   "cell_type": "code",
   "execution_count": 11,
   "metadata": {},
   "outputs": [
    {
     "name": "stderr",
     "output_type": "stream",
     "text": [
      "COMET INFO: ---------------------------\n",
      "COMET INFO: Comet.ml Experiment Summary\n",
      "COMET INFO: ---------------------------\n",
      "COMET INFO:   Data:\n",
      "COMET INFO:     display_summary_level : 1\n",
      "COMET INFO:     url                   : https://www.comet.ml/mdcabrera/ann-combustion-test/ae3217d5560d4de38fdcf1f16cefba00\n",
      "COMET INFO:   Metrics [count] (min, max):\n",
      "COMET INFO:     test_accuracy                  : 1.0\n",
      "COMET INFO:     test_loss                      : 0.0011761546594200763\n",
      "COMET INFO:     train_accuracy [5]             : (0.996844470500946, 1.0)\n",
      "COMET INFO:     train_batch_accuracy [5705]    : (0.0, 1.0)\n",
      "COMET INFO:     train_batch_loss [5705]        : (0.00038236600812524557, 1.2819194793701172)\n",
      "COMET INFO:     train_epoch_duration [5]       : (14.414001476000067, 15.708740182999918)\n",
      "COMET INFO:     train_loss [5]                 : (0.001172803632927275, 0.0036618122536835815)\n",
      "COMET INFO:     train_val_accuracy [5]         : 1.0\n",
      "COMET INFO:     train_val_loss [5]             : (0.0011742357759731874, 0.0011744154854795579)\n",
      "COMET INFO:     validate_batch_accuracy [1225] : 1.0\n",
      "COMET INFO:     validate_batch_loss [1225]     : (0.0005750561831519008, 0.0020589097402989864)\n",
      "COMET INFO:   Others:\n",
      "COMET INFO:     train_trainable_params : 119\n",
      "COMET INFO:   Parameters:\n",
      "COMET INFO:     architecture  : [[7, 'tanh'], [7, 'linear']]\n",
      "COMET INFO:     batch_size    : 128\n",
      "COMET INFO:     epochs        : 20\n",
      "COMET INFO:     loss_function : mean_squared_error\n",
      "COMET INFO:     min_delta     : 1e-08\n",
      "COMET INFO:     optimizer     : sgd\n",
      "COMET INFO:     samples       : 5000\n",
      "COMET INFO:     step_size     : 1e-07\n",
      "COMET INFO:   Uploads:\n",
      "COMET INFO:     code                     : 1 (2 KB)\n",
      "COMET INFO:     environment details      : 1\n",
      "COMET INFO:     filename                 : 1\n",
      "COMET INFO:     git metadata             : 1\n",
      "COMET INFO:     git-patch (uncompressed) : 1 (14 KB)\n",
      "COMET INFO:     installed packages       : 1\n",
      "COMET INFO:     model graph              : 1\n",
      "COMET INFO:     notebook                 : 1\n",
      "COMET INFO:     os packages              : 1\n",
      "COMET INFO: ---------------------------\n",
      "COMET INFO: Uploading stats to Comet before program termination (may take several seconds)\n",
      "COMET WARNING: Websocket connection didn't closed properly after 10 seconds\n"
     ]
    }
   ],
   "source": [
    "experiment.end()"
   ]
  },
  {
   "cell_type": "code",
   "execution_count": 12,
   "metadata": {},
   "outputs": [
    {
     "data": {
      "text/html": [
       "<div>\n",
       "<style scoped>\n",
       "    .dataframe tbody tr th:only-of-type {\n",
       "        vertical-align: middle;\n",
       "    }\n",
       "\n",
       "    .dataframe tbody tr th {\n",
       "        vertical-align: top;\n",
       "    }\n",
       "\n",
       "    .dataframe thead th {\n",
       "        text-align: right;\n",
       "    }\n",
       "</style>\n",
       "<table border=\"1\" class=\"dataframe\">\n",
       "  <thead>\n",
       "    <tr style=\"text-align: right;\">\n",
       "      <th></th>\n",
       "      <th>CH4</th>\n",
       "      <th>O2</th>\n",
       "      <th>H2O</th>\n",
       "      <th>N2</th>\n",
       "      <th>CO</th>\n",
       "      <th>CO2</th>\n",
       "      <th>H2</th>\n",
       "      <th>Temp</th>\n",
       "    </tr>\n",
       "  </thead>\n",
       "  <tbody>\n",
       "    <tr>\n",
       "      <th>0</th>\n",
       "      <td>0.024682</td>\n",
       "      <td>0.227246</td>\n",
       "      <td>4.954568e-12</td>\n",
       "      <td>0.748072</td>\n",
       "      <td>1.280604e-12</td>\n",
       "      <td>1.795527e-25</td>\n",
       "      <td>4.698226e-07</td>\n",
       "      <td>612.751804</td>\n",
       "    </tr>\n",
       "    <tr>\n",
       "      <th>1</th>\n",
       "      <td>0.024682</td>\n",
       "      <td>0.227246</td>\n",
       "      <td>4.962064e-12</td>\n",
       "      <td>0.748072</td>\n",
       "      <td>1.282541e-12</td>\n",
       "      <td>1.796890e-25</td>\n",
       "      <td>4.698226e-07</td>\n",
       "      <td>612.751804</td>\n",
       "    </tr>\n",
       "    <tr>\n",
       "      <th>2</th>\n",
       "      <td>0.024682</td>\n",
       "      <td>0.227246</td>\n",
       "      <td>4.969559e-12</td>\n",
       "      <td>0.748072</td>\n",
       "      <td>1.284479e-12</td>\n",
       "      <td>1.798257e-25</td>\n",
       "      <td>4.698226e-07</td>\n",
       "      <td>612.751804</td>\n",
       "    </tr>\n",
       "    <tr>\n",
       "      <th>3</th>\n",
       "      <td>0.024682</td>\n",
       "      <td>0.227246</td>\n",
       "      <td>4.977055e-12</td>\n",
       "      <td>0.748072</td>\n",
       "      <td>1.286416e-12</td>\n",
       "      <td>1.799624e-25</td>\n",
       "      <td>4.698226e-07</td>\n",
       "      <td>612.751804</td>\n",
       "    </tr>\n",
       "    <tr>\n",
       "      <th>4</th>\n",
       "      <td>0.024682</td>\n",
       "      <td>0.227246</td>\n",
       "      <td>4.984550e-12</td>\n",
       "      <td>0.748072</td>\n",
       "      <td>1.288354e-12</td>\n",
       "      <td>1.801015e-25</td>\n",
       "      <td>4.698226e-07</td>\n",
       "      <td>612.751804</td>\n",
       "    </tr>\n",
       "  </tbody>\n",
       "</table>\n",
       "</div>"
      ],
      "text/plain": [
       "        CH4        O2           H2O        N2            CO           CO2  \\\n",
       "0  0.024682  0.227246  4.954568e-12  0.748072  1.280604e-12  1.795527e-25   \n",
       "1  0.024682  0.227246  4.962064e-12  0.748072  1.282541e-12  1.796890e-25   \n",
       "2  0.024682  0.227246  4.969559e-12  0.748072  1.284479e-12  1.798257e-25   \n",
       "3  0.024682  0.227246  4.977055e-12  0.748072  1.286416e-12  1.799624e-25   \n",
       "4  0.024682  0.227246  4.984550e-12  0.748072  1.288354e-12  1.801015e-25   \n",
       "\n",
       "             H2        Temp  \n",
       "0  4.698226e-07  612.751804  \n",
       "1  4.698226e-07  612.751804  \n",
       "2  4.698226e-07  612.751804  \n",
       "3  4.698226e-07  612.751804  \n",
       "4  4.698226e-07  612.751804  "
      ]
     },
     "execution_count": 12,
     "metadata": {},
     "output_type": "execute_result"
    }
   ],
   "source": [
    "import numpy as np\n",
    "import cantera as ct\n",
    "import pandas as pd\n",
    "import scipy\n",
    "from scipy import integrate\n",
    "\n",
    "#Reactor solver\n",
    "class ReactorOde(object):\n",
    "    def __init__(self, gas):\n",
    "        # Parameters of the ODE system and auxiliary data are stored in the\n",
    "        # ReactorOde object.\n",
    "        self.gas = gas\n",
    "        self.P = gas.P\n",
    "\n",
    "    def __call__(self, t, y):\n",
    "        \"\"\"the ODE function, y' = f(t,y) \"\"\"\n",
    "\n",
    "        # State vector is [T, Y_1, Y_2, ... Y_K]\n",
    "        self.gas.set_unnormalized_mass_fractions(y[1:])\n",
    "        self.gas.TP = y[0], self.P\n",
    "        rho = self.gas.density\n",
    "\n",
    "        wdot = self.gas.net_production_rates\n",
    "        dTdt = - (np.dot(self.gas.partial_molar_enthalpies, wdot) /\n",
    "                  (rho * self.gas.cp))\n",
    "        dYdt = wdot * self.gas.molecular_weights / rho\n",
    "\n",
    "        return np.hstack((dTdt, dYdt))\n",
    "\n",
    "T=X_val[0][0]\n",
    "YInit=X_val[0][1:]\n",
    "\n",
    "#choose the wanted mechanism here\n",
    "gas = ct.Solution('../Mechanisms/WD_Laubscher.cti')\n",
    "# Initial condition\n",
    "P = ct.one_atm\n",
    "\n",
    "gas.TPY = T, P, YInit\n",
    "y0 = np.hstack((gas.T, gas.Y))\n",
    "\n",
    "# Set up objects representing the ODE and the solver\n",
    "ode = ReactorOde(gas)\n",
    "solver = scipy.integrate.ode(ode)\n",
    "solver.set_integrator('vode', method='bdf', with_jacobian=True)\n",
    "solver.set_initial_value(y0, 0.0)\n",
    "\n",
    "# Integrate the equations, keeping T(t) and Y(k,t)\n",
    "#this time should be varied, it corresponds to the residence time (tau_star) in EDC\n",
    "t_end = 1e-4\n",
    "states = ct.SolutionArray(gas, 1, extra={'t': [0.0]})\n",
    "dt = 1e-7\n",
    "#solving the equations\n",
    "while solver.successful() and solver.t < t_end:\n",
    "    solver.integrate(solver.t + dt)\n",
    "    gas.TPY = solver.y[0], P, solver.y[1:]\n",
    "    states.append(gas.state, t=solver.t)\n",
    "\n",
    "\n",
    "dfy=pd.DataFrame(states.Y,columns=gas.species_names)\n",
    "dfy['Temp']=states.T\n",
    "dfy.head()"
   ]
  },
  {
   "cell_type": "code",
   "execution_count": 13,
   "metadata": {},
   "outputs": [
    {
     "data": {
      "text/html": [
       "<div>\n",
       "<style scoped>\n",
       "    .dataframe tbody tr th:only-of-type {\n",
       "        vertical-align: middle;\n",
       "    }\n",
       "\n",
       "    .dataframe tbody tr th {\n",
       "        vertical-align: top;\n",
       "    }\n",
       "\n",
       "    .dataframe thead th {\n",
       "        text-align: right;\n",
       "    }\n",
       "</style>\n",
       "<table border=\"1\" class=\"dataframe\">\n",
       "  <thead>\n",
       "    <tr style=\"text-align: right;\">\n",
       "      <th></th>\n",
       "      <th>Temp</th>\n",
       "      <th>CH4</th>\n",
       "      <th>O2</th>\n",
       "      <th>H2O</th>\n",
       "      <th>N2</th>\n",
       "      <th>CO</th>\n",
       "      <th>CO2</th>\n",
       "      <th>H2</th>\n",
       "    </tr>\n",
       "  </thead>\n",
       "  <tbody>\n",
       "    <tr>\n",
       "      <th>0</th>\n",
       "      <td>612.751804</td>\n",
       "      <td>0.024682</td>\n",
       "      <td>0.227246</td>\n",
       "      <td>4.954566e-12</td>\n",
       "      <td>0.748072</td>\n",
       "      <td>1.280604e-12</td>\n",
       "      <td>1.795526e-25</td>\n",
       "      <td>4.698224e-07</td>\n",
       "    </tr>\n",
       "    <tr>\n",
       "      <th>1</th>\n",
       "      <td>612.751804</td>\n",
       "      <td>0.030561</td>\n",
       "      <td>0.197927</td>\n",
       "      <td>1.300529e-02</td>\n",
       "      <td>0.737414</td>\n",
       "      <td>2.546746e-03</td>\n",
       "      <td>1.798633e-02</td>\n",
       "      <td>5.595856e-04</td>\n",
       "    </tr>\n",
       "    <tr>\n",
       "      <th>2</th>\n",
       "      <td>612.751804</td>\n",
       "      <td>0.030561</td>\n",
       "      <td>0.197927</td>\n",
       "      <td>1.300529e-02</td>\n",
       "      <td>0.737414</td>\n",
       "      <td>2.546746e-03</td>\n",
       "      <td>1.798633e-02</td>\n",
       "      <td>5.595856e-04</td>\n",
       "    </tr>\n",
       "    <tr>\n",
       "      <th>3</th>\n",
       "      <td>612.751804</td>\n",
       "      <td>0.030561</td>\n",
       "      <td>0.197927</td>\n",
       "      <td>1.300529e-02</td>\n",
       "      <td>0.737414</td>\n",
       "      <td>2.546746e-03</td>\n",
       "      <td>1.798633e-02</td>\n",
       "      <td>5.595856e-04</td>\n",
       "    </tr>\n",
       "    <tr>\n",
       "      <th>4</th>\n",
       "      <td>612.751804</td>\n",
       "      <td>0.030561</td>\n",
       "      <td>0.197927</td>\n",
       "      <td>1.300529e-02</td>\n",
       "      <td>0.737414</td>\n",
       "      <td>2.546746e-03</td>\n",
       "      <td>1.798633e-02</td>\n",
       "      <td>5.595856e-04</td>\n",
       "    </tr>\n",
       "  </tbody>\n",
       "</table>\n",
       "</div>"
      ],
      "text/plain": [
       "         Temp       CH4        O2           H2O        N2            CO  \\\n",
       "0  612.751804  0.024682  0.227246  4.954566e-12  0.748072  1.280604e-12   \n",
       "1  612.751804  0.030561  0.197927  1.300529e-02  0.737414  2.546746e-03   \n",
       "2  612.751804  0.030561  0.197927  1.300529e-02  0.737414  2.546746e-03   \n",
       "3  612.751804  0.030561  0.197927  1.300529e-02  0.737414  2.546746e-03   \n",
       "4  612.751804  0.030561  0.197927  1.300529e-02  0.737414  2.546746e-03   \n",
       "\n",
       "            CO2            H2  \n",
       "0  1.795526e-25  4.698224e-07  \n",
       "1  1.798633e-02  5.595856e-04  \n",
       "2  1.798633e-02  5.595856e-04  \n",
       "3  1.798633e-02  5.595856e-04  \n",
       "4  1.798633e-02  5.595856e-04  "
      ]
     },
     "execution_count": 13,
     "metadata": {},
     "output_type": "execute_result"
    }
   ],
   "source": [
    "states.T\n",
    "K=X_val[0].reshape(1,8)\n",
    "Z=np.copy(K)\n",
    "K2=np.copy(K)\n",
    "K2[0][0]=states.T[0]\n",
    "\n",
    "\n",
    "RT=np.copy(K2)\n",
    "for j in range (1,len(states.t)):\n",
    "    #break\n",
    "    L=model.predict(Z)\n",
    "    Z=np.copy(np.append(states.T[j],L))\n",
    "    Z=Z.reshape(1,8)\n",
    "    \n",
    "    \n",
    "    K2=np.copy(np.append(states.T[j],L))\n",
    "    K2=K2.reshape(1,8)\n",
    "    \n",
    "    #Z=Z.reshape(1,8)\n",
    "    #K2=K2.reshape(1,8)\n",
    "    RT=np.vstack((RT,K2))\n",
    "    #states2.T\n",
    "\n",
    "dfx=pd.DataFrame(RT,columns=(['Temp']+gas.species_names))\n",
    "dfx.head()\n"
   ]
  },
  {
   "cell_type": "code",
   "execution_count": null,
   "metadata": {},
   "outputs": [],
   "source": []
  }
 ],
 "metadata": {
  "kernelspec": {
   "display_name": "Python 3",
   "language": "python",
   "name": "python3"
  },
  "language_info": {
   "codemirror_mode": {
    "name": "ipython",
    "version": 3
   },
   "file_extension": ".py",
   "mimetype": "text/x-python",
   "name": "python",
   "nbconvert_exporter": "python",
   "pygments_lexer": "ipython3",
   "version": "3.7.7"
  }
 },
 "nbformat": 4,
 "nbformat_minor": 4
}
