{
 "cells": [
  {
   "cell_type": "markdown",
   "metadata": {},
   "source": [
    "## __Random Initial Mass Fraction Generator__\n",
    "\n",
    "For the training, testing and validation of our ANN we need to generate a proper data set in such a way that the network can perform supervised learning from it, while keeping grounded on the physics of reality.\n",
    "\n",
    "In lay terms, this means that it would not make sense to train a network to predict values that are not possible in real life. The intended way to generate the data samples is to solve the system of stiff ordinary differential equations and use the evolution steps of the numerical solver as _input_ and _label_ sets. For this we need to provide first a set of random initial conditions (in this case initial mass fractions and temperature) to pass to an ODE solver. \n",
    "\n",
    "It is important that these randomly generated initial conditions agree with was is physically possible. Mathematically speaking, it is possible to generate an infinite number of initial mass fractions containing all the species involved in a given reaction mechanism, however, the existence of some of these might not be actually plausible since they could not agree with one or more conservation law. In particular we'd like our samples to comply with mass conservation.\n",
    "\n",
    "One way this is feasible is by using Bilger's Definition for a mixture. "
   ]
  },
  {
   "cell_type": "code",
   "execution_count": null,
   "metadata": {},
   "outputs": [],
   "source": []
  },
  {
   "cell_type": "markdown",
   "metadata": {},
   "source": [
    "## Setting the work environment\n",
    "The libraries that will be used for this are:\n",
    "\n",
    "    -Cantera\n",
    "    -molmass\n",
    "    -Numpy"
   ]
  },
  {
   "cell_type": "code",
   "execution_count": 36,
   "metadata": {},
   "outputs": [],
   "source": [
    "import numpy as np\n",
    "from molmass import Formula\n",
    "import cantera as ct\n",
    "\n",
    "#Set printing format for numpy arrays for ease of readin\n",
    "np.set_printoptions(formatter={'float': lambda x: \"{0:0.4f}\".format(x)})"
   ]
  },
  {
   "cell_type": "markdown",
   "metadata": {},
   "source": [
    "## Analysis of the combustion gas\n",
    "\n",
    "Before proceeding to generating the set of initial random condition we need to be able to obtain the chemical properties of our gas mixture. The library _Cantera_ is useful in this endeavor since it allows for the reading of information from a reaction mechanism and then provides functionality for interactive with them in Python."
   ]
  },
  {
   "cell_type": "code",
   "execution_count": 2,
   "metadata": {},
   "outputs": [],
   "source": [
    "# We read a solution mechanism and assign its properties to an object\n",
    "gas = ct.Solution('Mechanisms/WD_Laubscher.cti')"
   ]
  },
  {
   "cell_type": "markdown",
   "metadata": {},
   "source": [
    "After assigning the properties of a reaction mechanism to an object, _Cantera_ provides functions to use them."
   ]
  },
  {
   "cell_type": "code",
   "execution_count": 66,
   "metadata": {},
   "outputs": [
    {
     "name": "stdout",
     "output_type": "stream",
     "text": [
      " Elements in the mechanism: ['O', 'H', 'C', 'N', 'Ar'] \n",
      " Species in the mechanism: ['CH4', 'O2', 'H2O', 'N2', 'CO', 'CO2', 'H2'] \n",
      " Number of atoms of Oxygen in Methane: 0.0 \n",
      " Number of atoms of Oxygen in Water: 1.0 \n",
      " Mass of Hydrogen:  1.00794 \n",
      " Mass of Methane:  16.04276\n"
     ]
    }
   ],
   "source": [
    "#Examples of some of the Cantera functions to be used:\n",
    "\n",
    "\n",
    "elements=gas.element_names #Elements present in the mechanism\n",
    "species=gas.species_names #Species present in the mechanism\n",
    "print(' Elements in the mechanism:',elements,'\\n',\n",
    "     'Species in the mechanism:',species,'\\n',\n",
    "     'Number of atoms of Oxygen in Methane:'\n",
    "      ,gas.n_atoms('CH4','O'),'\\n',#Number of atoms of an element in a given species\n",
    "     'Number of atoms of Oxygen in Water:'\n",
    "      ,gas.n_atoms('H2O','O'),'\\n',\n",
    "      'Mass of Hydrogen: ', #Atomic weight of a given element present in the mechanism\n",
    "      gas.atomic_weight('H'),'\\n',\n",
    "      'Mass of Methane: ', #Molecular weight of a given species present in the mechanism\n",
    "      gas['CH4'].molecular_weights[0]\n",
    "     )\n"
   ]
  },
  {
   "cell_type": "markdown",
   "metadata": {},
   "source": [
    "Since noble gases do not interact in any reaction (footnote), the following function is designed to remove them:"
   ]
  },
  {
   "cell_type": "code",
   "execution_count": 4,
   "metadata": {},
   "outputs": [],
   "source": [
    "#Noble gases filter:\n",
    "def noble_filter(elements):\n",
    "    filter_elements=[]\n",
    "    # List of elements to be removed\n",
    "    noble=['Ar','Kr','Ne','He','Rn','Xe']\n",
    "    for x in elements:\n",
    "        if (noble.count(x)==0):\n",
    "            filter_elements.append(x)\n",
    "            \n",
    "    return filter_elements"
   ]
  },
  {
   "cell_type": "code",
   "execution_count": 44,
   "metadata": {},
   "outputs": [
    {
     "name": "stdout",
     "output_type": "stream",
     "text": [
      "Elements without noble gases:  ['O', 'H', 'C', 'N']\n"
     ]
    }
   ],
   "source": [
    "elements=noble_filter(gas.element_names)\n",
    "print('Elements without noble gases: ',elements)"
   ]
  },
  {
   "cell_type": "markdown",
   "metadata": {},
   "source": [
    "Using the functions described above is possible to build one that generates the matrix needes for the linear system of equations to be solved in order for the initial conditions to agree with Bilger's Definition."
   ]
  },
  {
   "cell_type": "markdown",
   "metadata": {},
   "source": [
    "## Bilger's Definition\n",
    "\n",
    "Using the functions described above is possible to build one that generates the matrix needes for the linear system of equations to be solved in order for the initial conditions to agree with Bilger's Definition."
   ]
  },
  {
   "cell_type": "code",
   "execution_count": null,
   "metadata": {},
   "outputs": [],
   "source": []
  },
  {
   "cell_type": "code",
   "execution_count": 37,
   "metadata": {},
   "outputs": [
    {
     "name": "stdout",
     "output_type": "stream",
     "text": [
      "[[1.0000 1.0000 1.0000 1.0000 1.0000 1.0000 1.0000]\n",
      " [0.0000 1.0000 0.8881 0.0000 0.5712 0.7271 0.0000]\n",
      " [0.2513 0.0000 0.1119 0.0000 0.0000 0.0000 1.0000]\n",
      " [0.7487 0.0000 0.0000 0.0000 0.4288 0.2729 0.0000]\n",
      " [0.0000 0.0000 0.0000 1.0000 0.0000 0.0000 0.0000]]\n"
     ]
    }
   ],
   "source": [
    "#Matrix for the linear system of Equations:\n",
    "def bilger_matrix(gas):\n",
    "    \n",
    "    #Elements present in the mechanism\n",
    "    elements=noble_filter(gas.element_names)\n",
    "    #Species present in the mechanism\n",
    "    species=gas.species_names\n",
    "    \n",
    "    #Matrix to store coeffiecients\n",
    "    A=np.ones((len(elements)+1,len(species)))\n",
    "   \n",
    "    row=1;\n",
    "    for x in elements:\n",
    "        col=0\n",
    "        for y in species:\n",
    "            A[row,col]=gas.n_atoms(y,x)*gas.atomic_weight(x)/gas[y].molecular_weights[0]\n",
    "            col +=1\n",
    "        row +=1\n",
    "    return np.copy(A)\n",
    "\n",
    "A=bilger_matrix(gas)\n",
    "print(A)"
   ]
  },
  {
   "cell_type": "markdown",
   "metadata": {},
   "source": [
    "As for the resulting vector, it will be created using random mixture fractions of a fuel and an oxydizer. Python dictionaries bestow a simple way to storing this information. For the results to be reproducible, it is necessary to use a seeded random number generator. Nonetheles the implementation of it won't come until later."
   ]
  },
  {
   "cell_type": "code",
   "execution_count": 55,
   "metadata": {},
   "outputs": [],
   "source": [
    "#Dictionaries for oxydizer and fuel mass fractions:\n",
    "fuel={'H':0.03922422,'O':0.19663877,'C':0.11684286,'N':0.64729}\n",
    "oxy={'H':1.03625e-5,'O':0.23298543,'C':3.194117e-5,'N':0.766970811}\n",
    "\n",
    "def bilger_vector(f_mix, fuel_dict, oxy_dict, elements):\n",
    "    \n",
    "    b=np.ones(len(elements)+1)\n",
    "    row=1\n",
    "    for x in elements:\n",
    "        b[row]=f_mix*fuel_dict[x]+(1-f_mix)*oxy_dict[x]\n",
    "        row+=1\n",
    "    return np.copy(b)"
   ]
  },
  {
   "cell_type": "code",
   "execution_count": 56,
   "metadata": {},
   "outputs": [
    {
     "name": "stdout",
     "output_type": "stream",
     "text": [
      "[1.0000 0.1689 0.0692 0.2061 0.5558]\n"
     ]
    }
   ],
   "source": [
    "np.random.seed(0)\n",
    "rn=np.random.randn(1)\n",
    "b=bilger_vector(rn,fuel, oxy, elements)\n",
    "print(b)"
   ]
  },
  {
   "cell_type": "markdown",
   "metadata": {},
   "source": [
    "Now is possible to see both the coefficient matrix and result vector needed to solve the linear system Ax=b. "
   ]
  },
  {
   "cell_type": "code",
   "execution_count": 58,
   "metadata": {},
   "outputs": [
    {
     "name": "stdout",
     "output_type": "stream",
     "text": [
      "A=\n",
      " [[1.0000 1.0000 1.0000 1.0000 1.0000 1.0000 1.0000]\n",
      " [0.0000 1.0000 0.8881 0.0000 0.5712 0.7271 0.0000]\n",
      " [0.2513 0.0000 0.1119 0.0000 0.0000 0.0000 1.0000]\n",
      " [0.7487 0.0000 0.0000 0.0000 0.4288 0.2729 0.0000]\n",
      " [0.0000 0.0000 0.0000 1.0000 0.0000 0.0000 0.0000]]\n",
      "b.transpose=\n",
      " [1.0000 0.1689 0.0692 0.2061 0.5558]\n"
     ]
    }
   ],
   "source": [
    "print(\"A=\\n\",A)\n",
    "print(\"b.transpose=\\n\",b)"
   ]
  },
  {
   "cell_type": "markdown",
   "metadata": {},
   "source": [
    "## Solving the linear system\n",
    "\n",
    "Once the system of equations is setted up it is neccesary to solve it for the species mass fractions. Unfortunately, as can be seen, this is an undetermined system (i.e. it has more unknowns thant equations) and thus, in the case it can be solved, this solution will not be unique."
   ]
  },
  {
   "cell_type": "code",
   "execution_count": 62,
   "metadata": {},
   "outputs": [],
   "source": [
    "from sympy import *"
   ]
  },
  {
   "cell_type": "code",
   "execution_count": null,
   "metadata": {},
   "outputs": [],
   "source": []
  }
 ],
 "metadata": {
  "kernelspec": {
   "display_name": "Python 3",
   "language": "python",
   "name": "python3"
  },
  "language_info": {
   "codemirror_mode": {
    "name": "ipython",
    "version": 3
   },
   "file_extension": ".py",
   "mimetype": "text/x-python",
   "name": "python",
   "nbconvert_exporter": "python",
   "pygments_lexer": "ipython3",
   "version": "3.7.7"
  }
 },
 "nbformat": 4,
 "nbformat_minor": 4
}
